{
  "nbformat": 4,
  "nbformat_minor": 0,
  "metadata": {
    "colab": {
      "provenance": [],
      "include_colab_link": true
    },
    "kernelspec": {
      "name": "ir",
      "display_name": "R"
    },
    "language_info": {
      "name": "R"
    }
  },
  "cells": [
    {
      "cell_type": "markdown",
      "metadata": {
        "id": "view-in-github",
        "colab_type": "text"
      },
      "source": [
        "<a href=\"https://colab.research.google.com/github/vpwz/ds1002-qnd8mu/blob/main/homework/week-15.ipynb\" target=\"_parent\"><img src=\"https://colab.research.google.com/assets/colab-badge.svg\" alt=\"Open In Colab\"/></a>"
      ]
    },
    {
      "cell_type": "markdown",
      "source": [
        "# Homework - Week 15\n",
        "\n",
        "Complete the following blocks as specified in the directions. Run each cell to return the desired output. Save your notebook back to your GitHub repository and submit the GitHub URL to your notebook for review."
      ],
      "metadata": {
        "id": "sZruw3XQogej"
      }
    },
    {
      "cell_type": "markdown",
      "source": [
        "## 1. Create Functions (4 pts)\n",
        "\n",
        "Create two functions in the cells below, according to the prompts given."
      ],
      "metadata": {
        "id": "lkaofBQypx1X"
      }
    },
    {
      "cell_type": "code",
      "source": [
        "# create a function in R that:\n",
        "#   1. takes a single integer as an input parameter\n",
        "#   2. determines whether the integer is even or odd\n",
        "#   3. returns a character statement \"The integer <x> is even\" or \"The integer <x> is odd\" (replace <x> with the actual input provided)\n",
        "#\n",
        "# then execute the function twice using two different input values, displaying even and odd results.\n",
        "\n",
        "func <- function(x){\n",
        "  if(x%%2 ==0){\n",
        "    return(paste(\"The integer\",x,\"is even\"))\n",
        "  }\n",
        "  else{\n",
        "    return(paste(\"The integer\",x,\"is odd\"))\n",
        "  }\n",
        "\n",
        "}\n",
        "\n",
        "r1 <-func(1)\n",
        "r2 <- func(2)\n",
        "\n",
        "cat(r1)\n",
        "cat(r2)"
      ],
      "metadata": {
        "id": "1fjq5bkEp6Zv",
        "colab": {
          "base_uri": "https://localhost:8080/"
        },
        "outputId": "f28fa6fe-7d41-4e61-9ae1-de50bdb5ae2d"
      },
      "execution_count": 2,
      "outputs": [
        {
          "output_type": "stream",
          "name": "stdout",
          "text": [
            "The integer 1 is oddThe integer 2 is even"
          ]
        }
      ]
    },
    {
      "cell_type": "code",
      "source": [
        "# create a function in R that:\n",
        "#   1. takes 4 integer input parameters\n",
        "#   2. returns the mean value of the inputs\n",
        "#   3. has default values for the 4 input parameters, in case they are not provided when the function is called.\n",
        "#\n",
        "# then execute the function twice: once where you provide the input values, and once where you do not.\n",
        "\n",
        "calcMean <- function(a= 0,b = 0,c = 0, d = 0){\n",
        "  value <- mean(c(a,b,c,d))\n",
        "  return(value)\n",
        "}\n",
        "\n",
        "\n",
        "result <- calcMean(2,4,6,8)\n",
        "cat(\"Mean with val\", result)\n",
        "result1 <- calcMean()\n",
        "cat(\"Mean without val\", result1)"
      ],
      "metadata": {
        "id": "f3IFD-T6p6Rd",
        "colab": {
          "base_uri": "https://localhost:8080/"
        },
        "outputId": "97c82347-1d8f-4fb2-d530-af5e0203867f"
      },
      "execution_count": 3,
      "outputs": [
        {
          "output_type": "stream",
          "name": "stdout",
          "text": [
            "Mean with val 5Mean without val 0"
          ]
        }
      ]
    },
    {
      "cell_type": "markdown",
      "source": [
        "## 2. Plot Data (4 pts)"
      ],
      "metadata": {
        "id": "F6Rx0GIGrpOB"
      }
    },
    {
      "cell_type": "markdown",
      "source": [
        "In the cell below, write the code required to plot from the `msleep` sample data set.\n",
        "\n",
        "1. Display only animals with body weights of 30 or greater.\n",
        "2. Group the animals by `order`.\n",
        "3. Display the mean `sleep_total` for each group in a bar plot."
      ],
      "metadata": {
        "id": "IDLyOjOJsFCX"
      }
    },
    {
      "cell_type": "code",
      "source": [
        "#\n",
        "data(msleep, package = 'ggplot2')\n",
        "\n",
        "bodyWeightFilter <- msleep[msleep$bodywt >= 30,]\n",
        "bodyWeightFilter\n",
        "\n",
        "\n",
        "orderData <- tapply(bodyWeightFilter$sleep_total,bodyWeightFilter$order,mean)\n",
        "orderData\n",
        "\n",
        "barplot(orderData)\n"
      ],
      "metadata": {
        "id": "0D5Ia-BPsoPZ",
        "colab": {
          "base_uri": "https://localhost:8080/",
          "height": 1000
        },
        "outputId": "fb97c617-cbf4-4c26-b4cc-73c8f51aacee"
      },
      "execution_count": 12,
      "outputs": [
        {
          "output_type": "display_data",
          "data": {
            "text/html": [
              "<table class=\"dataframe\">\n",
              "<caption>A tibble: 22 × 11</caption>\n",
              "<thead>\n",
              "\t<tr><th></th><th scope=col>name</th><th scope=col>genus</th><th scope=col>vore</th><th scope=col>order</th><th scope=col>conservation</th><th scope=col>sleep_total</th><th scope=col>sleep_rem</th><th scope=col>sleep_cycle</th><th scope=col>awake</th><th scope=col>brainwt</th><th scope=col>bodywt</th></tr>\n",
              "\t<tr><th></th><th scope=col>&lt;chr&gt;</th><th scope=col>&lt;chr&gt;</th><th scope=col>&lt;chr&gt;</th><th scope=col>&lt;chr&gt;</th><th scope=col>&lt;chr&gt;</th><th scope=col>&lt;dbl&gt;</th><th scope=col>&lt;dbl&gt;</th><th scope=col>&lt;dbl&gt;</th><th scope=col>&lt;dbl&gt;</th><th scope=col>&lt;dbl&gt;</th><th scope=col>&lt;dbl&gt;</th></tr>\n",
              "</thead>\n",
              "<tbody>\n",
              "\t<tr><th scope=row>1</th><td>Cheetah             </td><td>Acinonyx     </td><td>carni  </td><td>Carnivora     </td><td>lc          </td><td>12.1</td><td> NA</td><td>       NA</td><td>11.90</td><td>   NA</td><td>  50.000</td></tr>\n",
              "\t<tr><th scope=row>5</th><td>Cow                 </td><td>Bos          </td><td>herbi  </td><td>Artiodactyla  </td><td>domesticated</td><td> 4.0</td><td>0.7</td><td>0.6666667</td><td>20.00</td><td>0.423</td><td> 600.000</td></tr>\n",
              "\t<tr><th scope=row>11</th><td>Goat                </td><td>Capri        </td><td>herbi  </td><td>Artiodactyla  </td><td>lc          </td><td> 5.3</td><td>0.6</td><td>       NA</td><td>18.70</td><td>0.115</td><td>  33.500</td></tr>\n",
              "\t<tr><th scope=row>21</th><td>Asian elephant      </td><td>Elephas      </td><td>herbi  </td><td>Proboscidea   </td><td>en          </td><td> 3.9</td><td> NA</td><td>       NA</td><td>20.10</td><td>4.603</td><td>2547.000</td></tr>\n",
              "\t<tr><th scope=row>23</th><td>Horse               </td><td>Equus        </td><td>herbi  </td><td>Perissodactyla</td><td>domesticated</td><td> 2.9</td><td>0.6</td><td>1.0000000</td><td>21.10</td><td>0.655</td><td> 521.000</td></tr>\n",
              "\t<tr><th scope=row>24</th><td>Donkey              </td><td>Equus        </td><td>herbi  </td><td>Perissodactyla</td><td>domesticated</td><td> 3.1</td><td>0.4</td><td>       NA</td><td>20.90</td><td>0.419</td><td> 187.000</td></tr>\n",
              "\t<tr><th scope=row>30</th><td>Giraffe             </td><td>Giraffa      </td><td>herbi  </td><td>Artiodactyla  </td><td>cd          </td><td> 1.9</td><td>0.4</td><td>       NA</td><td>22.10</td><td>   NA</td><td> 899.995</td></tr>\n",
              "\t<tr><th scope=row>31</th><td>Pilot whale         </td><td>Globicephalus</td><td>carni  </td><td>Cetacea       </td><td>cd          </td><td> 2.7</td><td>0.1</td><td>       NA</td><td>21.35</td><td>   NA</td><td> 800.000</td></tr>\n",
              "\t<tr><th scope=row>32</th><td>Gray seal           </td><td>Haliochoerus </td><td>carni  </td><td>Carnivora     </td><td>lc          </td><td> 6.2</td><td>1.5</td><td>       NA</td><td>17.80</td><td>0.325</td><td>  85.000</td></tr>\n",
              "\t<tr><th scope=row>34</th><td>Human               </td><td>Homo         </td><td>omni   </td><td>Primates      </td><td>NA          </td><td> 8.0</td><td>1.9</td><td>1.5000000</td><td>16.00</td><td>1.320</td><td>  62.000</td></tr>\n",
              "\t<tr><th scope=row>36</th><td>African elephant    </td><td>Loxodonta    </td><td>herbi  </td><td>Proboscidea   </td><td>vu          </td><td> 3.3</td><td> NA</td><td>       NA</td><td>20.70</td><td>5.712</td><td>6654.000</td></tr>\n",
              "\t<tr><th scope=row>49</th><td>Sheep               </td><td>Ovis         </td><td>herbi  </td><td>Artiodactyla  </td><td>domesticated</td><td> 3.8</td><td>0.6</td><td>       NA</td><td>20.20</td><td>0.175</td><td>  55.500</td></tr>\n",
              "\t<tr><th scope=row>50</th><td>Chimpanzee          </td><td>Pan          </td><td>omni   </td><td>Primates      </td><td>NA          </td><td> 9.7</td><td>1.4</td><td>1.4166667</td><td>14.30</td><td>0.440</td><td>  52.200</td></tr>\n",
              "\t<tr><th scope=row>51</th><td>Tiger               </td><td>Panthera     </td><td>carni  </td><td>Carnivora     </td><td>en          </td><td>15.8</td><td> NA</td><td>       NA</td><td> 8.20</td><td>   NA</td><td> 162.564</td></tr>\n",
              "\t<tr><th scope=row>52</th><td>Jaguar              </td><td>Panthera     </td><td>carni  </td><td>Carnivora     </td><td>nt          </td><td>10.4</td><td> NA</td><td>       NA</td><td>13.60</td><td>0.157</td><td> 100.000</td></tr>\n",
              "\t<tr><th scope=row>53</th><td>Lion                </td><td>Panthera     </td><td>carni  </td><td>Carnivora     </td><td>vu          </td><td>13.5</td><td> NA</td><td>       NA</td><td>10.50</td><td>   NA</td><td> 161.499</td></tr>\n",
              "\t<tr><th scope=row>59</th><td>Caspian seal        </td><td>Phoca        </td><td>carni  </td><td>Carnivora     </td><td>vu          </td><td> 3.5</td><td>0.4</td><td>       NA</td><td>20.50</td><td>   NA</td><td>  86.000</td></tr>\n",
              "\t<tr><th scope=row>60</th><td>Common porpoise     </td><td>Phocoena     </td><td>carni  </td><td>Cetacea       </td><td>vu          </td><td> 5.6</td><td> NA</td><td>       NA</td><td>18.45</td><td>   NA</td><td>  53.180</td></tr>\n",
              "\t<tr><th scope=row>62</th><td>Giant armadillo     </td><td>Priodontes   </td><td>insecti</td><td>Cingulata     </td><td>en          </td><td>18.1</td><td>6.1</td><td>       NA</td><td> 5.90</td><td>0.081</td><td>  60.000</td></tr>\n",
              "\t<tr><th scope=row>74</th><td>Pig                 </td><td>Sus          </td><td>omni   </td><td>Artiodactyla  </td><td>domesticated</td><td> 9.1</td><td>2.4</td><td>0.5000000</td><td>14.90</td><td>0.180</td><td>  86.250</td></tr>\n",
              "\t<tr><th scope=row>77</th><td>Brazilian tapir     </td><td>Tapirus      </td><td>herbi  </td><td>Perissodactyla</td><td>vu          </td><td> 4.4</td><td>1.0</td><td>0.9000000</td><td>19.60</td><td>0.169</td><td> 207.501</td></tr>\n",
              "\t<tr><th scope=row>80</th><td>Bottle-nosed dolphin</td><td>Tursiops     </td><td>carni  </td><td>Cetacea       </td><td>NA          </td><td> 5.2</td><td> NA</td><td>       NA</td><td>18.80</td><td>   NA</td><td> 173.330</td></tr>\n",
              "</tbody>\n",
              "</table>\n"
            ],
            "text/markdown": "\nA tibble: 22 × 11\n\n| <!--/--> | name &lt;chr&gt; | genus &lt;chr&gt; | vore &lt;chr&gt; | order &lt;chr&gt; | conservation &lt;chr&gt; | sleep_total &lt;dbl&gt; | sleep_rem &lt;dbl&gt; | sleep_cycle &lt;dbl&gt; | awake &lt;dbl&gt; | brainwt &lt;dbl&gt; | bodywt &lt;dbl&gt; |\n|---|---|---|---|---|---|---|---|---|---|---|---|\n| 1 | Cheetah              | Acinonyx      | carni   | Carnivora      | lc           | 12.1 |  NA |        NA | 11.90 |    NA |   50.000 |\n| 5 | Cow                  | Bos           | herbi   | Artiodactyla   | domesticated |  4.0 | 0.7 | 0.6666667 | 20.00 | 0.423 |  600.000 |\n| 11 | Goat                 | Capri         | herbi   | Artiodactyla   | lc           |  5.3 | 0.6 |        NA | 18.70 | 0.115 |   33.500 |\n| 21 | Asian elephant       | Elephas       | herbi   | Proboscidea    | en           |  3.9 |  NA |        NA | 20.10 | 4.603 | 2547.000 |\n| 23 | Horse                | Equus         | herbi   | Perissodactyla | domesticated |  2.9 | 0.6 | 1.0000000 | 21.10 | 0.655 |  521.000 |\n| 24 | Donkey               | Equus         | herbi   | Perissodactyla | domesticated |  3.1 | 0.4 |        NA | 20.90 | 0.419 |  187.000 |\n| 30 | Giraffe              | Giraffa       | herbi   | Artiodactyla   | cd           |  1.9 | 0.4 |        NA | 22.10 |    NA |  899.995 |\n| 31 | Pilot whale          | Globicephalus | carni   | Cetacea        | cd           |  2.7 | 0.1 |        NA | 21.35 |    NA |  800.000 |\n| 32 | Gray seal            | Haliochoerus  | carni   | Carnivora      | lc           |  6.2 | 1.5 |        NA | 17.80 | 0.325 |   85.000 |\n| 34 | Human                | Homo          | omni    | Primates       | NA           |  8.0 | 1.9 | 1.5000000 | 16.00 | 1.320 |   62.000 |\n| 36 | African elephant     | Loxodonta     | herbi   | Proboscidea    | vu           |  3.3 |  NA |        NA | 20.70 | 5.712 | 6654.000 |\n| 49 | Sheep                | Ovis          | herbi   | Artiodactyla   | domesticated |  3.8 | 0.6 |        NA | 20.20 | 0.175 |   55.500 |\n| 50 | Chimpanzee           | Pan           | omni    | Primates       | NA           |  9.7 | 1.4 | 1.4166667 | 14.30 | 0.440 |   52.200 |\n| 51 | Tiger                | Panthera      | carni   | Carnivora      | en           | 15.8 |  NA |        NA |  8.20 |    NA |  162.564 |\n| 52 | Jaguar               | Panthera      | carni   | Carnivora      | nt           | 10.4 |  NA |        NA | 13.60 | 0.157 |  100.000 |\n| 53 | Lion                 | Panthera      | carni   | Carnivora      | vu           | 13.5 |  NA |        NA | 10.50 |    NA |  161.499 |\n| 59 | Caspian seal         | Phoca         | carni   | Carnivora      | vu           |  3.5 | 0.4 |        NA | 20.50 |    NA |   86.000 |\n| 60 | Common porpoise      | Phocoena      | carni   | Cetacea        | vu           |  5.6 |  NA |        NA | 18.45 |    NA |   53.180 |\n| 62 | Giant armadillo      | Priodontes    | insecti | Cingulata      | en           | 18.1 | 6.1 |        NA |  5.90 | 0.081 |   60.000 |\n| 74 | Pig                  | Sus           | omni    | Artiodactyla   | domesticated |  9.1 | 2.4 | 0.5000000 | 14.90 | 0.180 |   86.250 |\n| 77 | Brazilian tapir      | Tapirus       | herbi   | Perissodactyla | vu           |  4.4 | 1.0 | 0.9000000 | 19.60 | 0.169 |  207.501 |\n| 80 | Bottle-nosed dolphin | Tursiops      | carni   | Cetacea        | NA           |  5.2 |  NA |        NA | 18.80 |    NA |  173.330 |\n\n",
            "text/latex": "A tibble: 22 × 11\n\\begin{tabular}{r|lllllllllll}\n  & name & genus & vore & order & conservation & sleep\\_total & sleep\\_rem & sleep\\_cycle & awake & brainwt & bodywt\\\\\n  & <chr> & <chr> & <chr> & <chr> & <chr> & <dbl> & <dbl> & <dbl> & <dbl> & <dbl> & <dbl>\\\\\n\\hline\n\t1 & Cheetah              & Acinonyx      & carni   & Carnivora      & lc           & 12.1 &  NA &        NA & 11.90 &    NA &   50.000\\\\\n\t5 & Cow                  & Bos           & herbi   & Artiodactyla   & domesticated &  4.0 & 0.7 & 0.6666667 & 20.00 & 0.423 &  600.000\\\\\n\t11 & Goat                 & Capri         & herbi   & Artiodactyla   & lc           &  5.3 & 0.6 &        NA & 18.70 & 0.115 &   33.500\\\\\n\t21 & Asian elephant       & Elephas       & herbi   & Proboscidea    & en           &  3.9 &  NA &        NA & 20.10 & 4.603 & 2547.000\\\\\n\t23 & Horse                & Equus         & herbi   & Perissodactyla & domesticated &  2.9 & 0.6 & 1.0000000 & 21.10 & 0.655 &  521.000\\\\\n\t24 & Donkey               & Equus         & herbi   & Perissodactyla & domesticated &  3.1 & 0.4 &        NA & 20.90 & 0.419 &  187.000\\\\\n\t30 & Giraffe              & Giraffa       & herbi   & Artiodactyla   & cd           &  1.9 & 0.4 &        NA & 22.10 &    NA &  899.995\\\\\n\t31 & Pilot whale          & Globicephalus & carni   & Cetacea        & cd           &  2.7 & 0.1 &        NA & 21.35 &    NA &  800.000\\\\\n\t32 & Gray seal            & Haliochoerus  & carni   & Carnivora      & lc           &  6.2 & 1.5 &        NA & 17.80 & 0.325 &   85.000\\\\\n\t34 & Human                & Homo          & omni    & Primates       & NA           &  8.0 & 1.9 & 1.5000000 & 16.00 & 1.320 &   62.000\\\\\n\t36 & African elephant     & Loxodonta     & herbi   & Proboscidea    & vu           &  3.3 &  NA &        NA & 20.70 & 5.712 & 6654.000\\\\\n\t49 & Sheep                & Ovis          & herbi   & Artiodactyla   & domesticated &  3.8 & 0.6 &        NA & 20.20 & 0.175 &   55.500\\\\\n\t50 & Chimpanzee           & Pan           & omni    & Primates       & NA           &  9.7 & 1.4 & 1.4166667 & 14.30 & 0.440 &   52.200\\\\\n\t51 & Tiger                & Panthera      & carni   & Carnivora      & en           & 15.8 &  NA &        NA &  8.20 &    NA &  162.564\\\\\n\t52 & Jaguar               & Panthera      & carni   & Carnivora      & nt           & 10.4 &  NA &        NA & 13.60 & 0.157 &  100.000\\\\\n\t53 & Lion                 & Panthera      & carni   & Carnivora      & vu           & 13.5 &  NA &        NA & 10.50 &    NA &  161.499\\\\\n\t59 & Caspian seal         & Phoca         & carni   & Carnivora      & vu           &  3.5 & 0.4 &        NA & 20.50 &    NA &   86.000\\\\\n\t60 & Common porpoise      & Phocoena      & carni   & Cetacea        & vu           &  5.6 &  NA &        NA & 18.45 &    NA &   53.180\\\\\n\t62 & Giant armadillo      & Priodontes    & insecti & Cingulata      & en           & 18.1 & 6.1 &        NA &  5.90 & 0.081 &   60.000\\\\\n\t74 & Pig                  & Sus           & omni    & Artiodactyla   & domesticated &  9.1 & 2.4 & 0.5000000 & 14.90 & 0.180 &   86.250\\\\\n\t77 & Brazilian tapir      & Tapirus       & herbi   & Perissodactyla & vu           &  4.4 & 1.0 & 0.9000000 & 19.60 & 0.169 &  207.501\\\\\n\t80 & Bottle-nosed dolphin & Tursiops      & carni   & Cetacea        & NA           &  5.2 &  NA &        NA & 18.80 &    NA &  173.330\\\\\n\\end{tabular}\n",
            "text/plain": [
              "   name                 genus         vore    order          conservation\n",
              "1  Cheetah              Acinonyx      carni   Carnivora      lc          \n",
              "5  Cow                  Bos           herbi   Artiodactyla   domesticated\n",
              "11 Goat                 Capri         herbi   Artiodactyla   lc          \n",
              "21 Asian elephant       Elephas       herbi   Proboscidea    en          \n",
              "23 Horse                Equus         herbi   Perissodactyla domesticated\n",
              "24 Donkey               Equus         herbi   Perissodactyla domesticated\n",
              "30 Giraffe              Giraffa       herbi   Artiodactyla   cd          \n",
              "31 Pilot whale          Globicephalus carni   Cetacea        cd          \n",
              "32 Gray seal            Haliochoerus  carni   Carnivora      lc          \n",
              "34 Human                Homo          omni    Primates       NA          \n",
              "36 African elephant     Loxodonta     herbi   Proboscidea    vu          \n",
              "49 Sheep                Ovis          herbi   Artiodactyla   domesticated\n",
              "50 Chimpanzee           Pan           omni    Primates       NA          \n",
              "51 Tiger                Panthera      carni   Carnivora      en          \n",
              "52 Jaguar               Panthera      carni   Carnivora      nt          \n",
              "53 Lion                 Panthera      carni   Carnivora      vu          \n",
              "59 Caspian seal         Phoca         carni   Carnivora      vu          \n",
              "60 Common porpoise      Phocoena      carni   Cetacea        vu          \n",
              "62 Giant armadillo      Priodontes    insecti Cingulata      en          \n",
              "74 Pig                  Sus           omni    Artiodactyla   domesticated\n",
              "77 Brazilian tapir      Tapirus       herbi   Perissodactyla vu          \n",
              "80 Bottle-nosed dolphin Tursiops      carni   Cetacea        NA          \n",
              "   sleep_total sleep_rem sleep_cycle awake brainwt bodywt  \n",
              "1  12.1         NA              NA   11.90    NA     50.000\n",
              "5   4.0        0.7       0.6666667   20.00 0.423    600.000\n",
              "11  5.3        0.6              NA   18.70 0.115     33.500\n",
              "21  3.9         NA              NA   20.10 4.603   2547.000\n",
              "23  2.9        0.6       1.0000000   21.10 0.655    521.000\n",
              "24  3.1        0.4              NA   20.90 0.419    187.000\n",
              "30  1.9        0.4              NA   22.10    NA    899.995\n",
              "31  2.7        0.1              NA   21.35    NA    800.000\n",
              "32  6.2        1.5              NA   17.80 0.325     85.000\n",
              "34  8.0        1.9       1.5000000   16.00 1.320     62.000\n",
              "36  3.3         NA              NA   20.70 5.712   6654.000\n",
              "49  3.8        0.6              NA   20.20 0.175     55.500\n",
              "50  9.7        1.4       1.4166667   14.30 0.440     52.200\n",
              "51 15.8         NA              NA    8.20    NA    162.564\n",
              "52 10.4         NA              NA   13.60 0.157    100.000\n",
              "53 13.5         NA              NA   10.50    NA    161.499\n",
              "59  3.5        0.4              NA   20.50    NA     86.000\n",
              "60  5.6         NA              NA   18.45    NA     53.180\n",
              "62 18.1        6.1              NA    5.90 0.081     60.000\n",
              "74  9.1        2.4       0.5000000   14.90 0.180     86.250\n",
              "77  4.4        1.0       0.9000000   19.60 0.169    207.501\n",
              "80  5.2         NA              NA   18.80    NA    173.330"
            ]
          },
          "metadata": {}
        },
        {
          "output_type": "display_data",
          "data": {
            "text/html": [
              "<style>\n",
              ".dl-inline {width: auto; margin:0; padding: 0}\n",
              ".dl-inline>dt, .dl-inline>dd {float: none; width: auto; display: inline-block}\n",
              ".dl-inline>dt::after {content: \":\\0020\"; padding-right: .5ex}\n",
              ".dl-inline>dt:not(:first-of-type) {padding-left: .5ex}\n",
              "</style><dl class=dl-inline><dt>Artiodactyla</dt><dd>4.82</dd><dt>Carnivora</dt><dd>10.25</dd><dt>Cetacea</dt><dd>4.5</dd><dt>Cingulata</dt><dd>18.1</dd><dt>Perissodactyla</dt><dd>3.46666666666667</dd><dt>Primates</dt><dd>8.85</dd><dt>Proboscidea</dt><dd>3.6</dd></dl>\n"
            ],
            "text/markdown": "Artiodactyla\n:   4.82Carnivora\n:   10.25Cetacea\n:   4.5Cingulata\n:   18.1Perissodactyla\n:   3.46666666666667Primates\n:   8.85Proboscidea\n:   3.6\n\n",
            "text/latex": "\\begin{description*}\n\\item[Artiodactyla] 4.82\n\\item[Carnivora] 10.25\n\\item[Cetacea] 4.5\n\\item[Cingulata] 18.1\n\\item[Perissodactyla] 3.46666666666667\n\\item[Primates] 8.85\n\\item[Proboscidea] 3.6\n\\end{description*}\n",
            "text/plain": [
              "  Artiodactyla      Carnivora        Cetacea      Cingulata Perissodactyla \n",
              "      4.820000      10.250000       4.500000      18.100000       3.466667 \n",
              "      Primates    Proboscidea \n",
              "      8.850000       3.600000 "
            ]
          },
          "metadata": {}
        },
        {
          "output_type": "display_data",
          "data": {
            "text/plain": [
              "plot without title"
            ],
            "image/png": "[encoded data removed]"
          },
          "metadata": {
            "image/png": {
              "width": 420,
              "height": 420
            }
          }
        }
      ]
    },
    {
      "cell_type": "markdown",
      "source": [
        "## 3. Clean and Analyze Data Using R (4 pts)\n",
        "\n",
        "In the cells below use R to perform the following data cleaning steps on this file:\n",
        "https://raw.githubusercontent.com/nmagee/ds1002/main/data/social-media-users.csv\n",
        "\n",
        "1. Remove any duplicate rows.\n",
        "2. Remove any records where `last_login` or `birthdate` are empty.\n",
        "3. Display only the records with the 10 highest `follower` counts.\n",
        "4. Determine counts of users when grouped by continent."
      ],
      "metadata": {
        "id": "-2ZaFcCCv3o8"
      }
    },
    {
      "cell_type": "code",
      "source": [
        "#\n",
        "library(dplyr)\n",
        "\n",
        "data <- \"https://raw.githubusercontent.com/nmagee/ds1002/main/data/social-media-users.csv\"\n",
        "socialMediaData <- read.csv(data)\n",
        "\n",
        "socialMediaData <- distinct(socialMediaData)\n"
      ],
      "metadata": {
        "id": "V4nBsdVsyauQ"
      },
      "execution_count": 17,
      "outputs": []
    },
    {
      "cell_type": "code",
      "source": [
        "#\n",
        "socialMediaData <- socialMediaData %>% filter(!is.na(last_login) & !is.na(birthdate))\n",
        "socialMediaData"
      ],
      "metadata": {
        "id": "LwXD1sNulIT3",
        "colab": {
          "base_uri": "https://localhost:8080/",
          "height": 1000
        },
        "outputId": "460878ba-c6d1-4dd8-89eb-8aa9365042f8"
      },
      "execution_count": 18,
      "outputs": [
        {
          "output_type": "display_data",
          "data": {
            "text/html": [
              "<table class=\"dataframe\">\n",
              "<caption>A data.frame: 1000 × 8</caption>\n",
              "<thead>\n",
              "\t<tr><th scope=col>username</th><th scope=col>full_name</th><th scope=col>birthdate</th><th scope=col>email</th><th scope=col>continent</th><th scope=col>followers</th><th scope=col>last_login</th><th scope=col>interests</th></tr>\n",
              "\t<tr><th scope=col>&lt;chr&gt;</th><th scope=col>&lt;chr&gt;</th><th scope=col>&lt;chr&gt;</th><th scope=col>&lt;chr&gt;</th><th scope=col>&lt;chr&gt;</th><th scope=col>&lt;int&gt;</th><th scope=col>&lt;chr&gt;</th><th scope=col>&lt;chr&gt;</th></tr>\n",
              "</thead>\n",
              "<tbody>\n",
              "\t<tr><td>ckippen0     </td><td>Clevey Kippen    </td><td>5/1/1991  </td><td>ckippen0@t-online.de              </td><td>NA</td><td>12362</td><td>5/16/2023 </td><td>music </td></tr>\n",
              "\t<tr><td>tgergler1    </td><td>Tedi Gergler     </td><td>10/5/1998 </td><td>tgergler1@salon.com               </td><td>NA</td><td>21360</td><td>8/20/2020 </td><td>sports</td></tr>\n",
              "\t<tr><td>spomfrett2   </td><td>Steffie Pomfrett </td><td>          </td><td>spomfrett2@imdb.com               </td><td>NA</td><td>19530</td><td>11/19/2022</td><td>sports</td></tr>\n",
              "\t<tr><td>rphettis3    </td><td>Ruddy Phettis    </td><td>6/18/1984 </td><td>rphettis3@npr.org                 </td><td>EU</td><td>80047</td><td>9/20/2023 </td><td>travel</td></tr>\n",
              "\t<tr><td>ngilcriest4  </td><td>Nico Gilcriest   </td><td>10/11/1993</td><td>ngilcriest4@dyndns.org            </td><td>NA</td><td>33544</td><td>          </td><td>music </td></tr>\n",
              "\t<tr><td>fhampson5    </td><td>Farrell Hampson  </td><td>11/7/1985 </td><td>fhampson5@lulu.com                </td><td>OC</td><td>72161</td><td>          </td><td>sports</td></tr>\n",
              "\t<tr><td>ttotman6     </td><td>Tamqrah Totman   </td><td>8/7/1986  </td><td>ttotman6@elpais.com               </td><td>AF</td><td>42669</td><td>3/10/2023 </td><td>music </td></tr>\n",
              "\t<tr><td>bdennes7     </td><td>Bonita Dennes    </td><td>          </td><td>bdennes7@cnet.com                 </td><td>NA</td><td>22516</td><td>2/3/2023  </td><td>sports</td></tr>\n",
              "\t<tr><td>kgrigoryev8  </td><td>Krishna Grigoryev</td><td>5/25/1990 </td><td>kgrigoryev8@quantcast.com         </td><td>EU</td><td>93923</td><td>1/30/2023 </td><td>travel</td></tr>\n",
              "\t<tr><td>mbathoe9     </td><td>Mallissa Bathoe  </td><td>          </td><td>mbathoe9@bloomberg.com            </td><td>AS</td><td>18554</td><td>3/5/2022  </td><td>travel</td></tr>\n",
              "\t<tr><td>hallensona   </td><td>Hayward Allenson </td><td>3/15/1983 </td><td>hallensona@wp.com                 </td><td>AF</td><td>81042</td><td>          </td><td>travel</td></tr>\n",
              "\t<tr><td>mchittockb   </td><td>Myriam Chittock  </td><td>1/26/1989 </td><td>mchittockb@uiuc.edu               </td><td>AF</td><td>46304</td><td>8/29/2023 </td><td>sports</td></tr>\n",
              "\t<tr><td>mfranzewitchc</td><td>Max Franzewitch  </td><td>12/25/1997</td><td>mfranzewitchc@paginegialle.it     </td><td>NA</td><td> 5640</td><td>          </td><td>travel</td></tr>\n",
              "\t<tr><td>aeasbyd      </td><td>Alessandra Easby </td><td>1/5/1991  </td><td>aeasbyd@google.ca                 </td><td>AF</td><td>16786</td><td>6/15/2023 </td><td>sports</td></tr>\n",
              "\t<tr><td>hschubarte   </td><td>Hubert Schubart  </td><td>11/23/1984</td><td>hschubarte@friendfeed.com         </td><td>NA</td><td>74336</td><td>          </td><td>sports</td></tr>\n",
              "\t<tr><td>dleishmanf   </td><td>Dyane Leishman   </td><td>2/12/1990 </td><td>dleishmanf@lycos.com              </td><td>NA</td><td>85070</td><td>6/5/2021  </td><td>travel</td></tr>\n",
              "\t<tr><td>scoilsg      </td><td>Shayla Coils     </td><td>          </td><td>scoilsg@hhs.gov                   </td><td>NA</td><td>79667</td><td>10/14/2021</td><td>travel</td></tr>\n",
              "\t<tr><td>bkrzysztofh  </td><td>Bendick Krzysztof</td><td>10/19/1985</td><td>bkrzysztofh@nationalgeographic.com</td><td>NA</td><td>11748</td><td>          </td><td>music </td></tr>\n",
              "\t<tr><td>omarusiki    </td><td>Otha Marusik     </td><td>12/4/1992 </td><td>omarusiki@cdbaby.com              </td><td>AF</td><td>93981</td><td>2/4/2022  </td><td>travel</td></tr>\n",
              "\t<tr><td>craglesj     </td><td>Constancia Ragles</td><td>          </td><td>craglesj@e-recht24.de             </td><td>NA</td><td>85300</td><td>9/28/2021 </td><td>sports</td></tr>\n",
              "\t<tr><td>sspenclayk   </td><td>Scott Spenclay   </td><td>12/7/1989 </td><td>sspenclayk@wikispaces.com         </td><td>AF</td><td>31745</td><td>11/29/2022</td><td>sports</td></tr>\n",
              "\t<tr><td>gklinckl     </td><td>Georgetta Klinck </td><td>7/26/1996 </td><td>gklinckl@over-blog.com            </td><td>SA</td><td>69386</td><td>9/10/2023 </td><td>sports</td></tr>\n",
              "\t<tr><td>rhollowm     </td><td>Riccardo Hollow  </td><td>1/18/1980 </td><td>rhollowm@dyndns.org               </td><td>OC</td><td>73088</td><td>1/22/2020 </td><td>sports</td></tr>\n",
              "\t<tr><td>atrouncen    </td><td>Aube Trounce     </td><td>9/5/1984  </td><td>atrouncen@shinystat.com           </td><td>AS</td><td>51692</td><td>          </td><td>music </td></tr>\n",
              "\t<tr><td>jquareo      </td><td>Joey Quare       </td><td>11/19/1999</td><td>jquareo@furl.net                  </td><td>AF</td><td>68116</td><td>          </td><td>sports</td></tr>\n",
              "\t<tr><td>rbellonp     </td><td>Rodolph Bellon   </td><td>8/30/2002 </td><td>rbellonp@cisco.com                </td><td>AF</td><td>96337</td><td>          </td><td>music </td></tr>\n",
              "\t<tr><td>chawesq      </td><td>Courtnay Hawes   </td><td>          </td><td>chawesq@deviantart.com            </td><td>AF</td><td>  435</td><td>3/19/2023 </td><td>music </td></tr>\n",
              "\t<tr><td>acheshirr    </td><td>Ali Cheshir      </td><td>4/19/1998 </td><td>acheshirr@phoca.cz                </td><td>AS</td><td>79802</td><td>          </td><td>sports</td></tr>\n",
              "\t<tr><td>galdrins     </td><td>Gerick Aldrin    </td><td>7/31/1995 </td><td>galdrins@ca.gov                   </td><td>NA</td><td>96491</td><td>5/26/2022 </td><td>music </td></tr>\n",
              "\t<tr><td>ddimmockt    </td><td>Didi Dimmock     </td><td>5/15/1985 </td><td>ddimmockt@wired.com               </td><td>EU</td><td>81726</td><td>4/23/2021 </td><td>sports</td></tr>\n",
              "\t<tr><td>⋮</td><td>⋮</td><td>⋮</td><td>⋮</td><td>⋮</td><td>⋮</td><td>⋮</td><td>⋮</td></tr>\n",
              "\t<tr><td>sargerqy      </td><td>Shane Arger         </td><td>2/21/1992 </td><td>sargerqy@exblog.jp             </td><td>AF</td><td>53022</td><td>12/7/2021 </td><td>music </td></tr>\n",
              "\t<tr><td>jgiorgiuttiqz </td><td>Joy Giorgiutti      </td><td>5/5/1988  </td><td>jgiorgiuttiqz@timesonline.co.uk</td><td>NA</td><td>26125</td><td>6/1/2020  </td><td>travel</td></tr>\n",
              "\t<tr><td>bgerwoodr0    </td><td>Beverlee Gerwood    </td><td>1/29/1980 </td><td>bgerwoodr0@fotki.com           </td><td>AS</td><td>22633</td><td>          </td><td>music </td></tr>\n",
              "\t<tr><td>fheinker1     </td><td>Fleurette Heinke    </td><td>          </td><td>fheinker1@google.fr            </td><td>NA</td><td>39891</td><td>8/17/2020 </td><td>travel</td></tr>\n",
              "\t<tr><td>acashellr2    </td><td>Aridatha Cashell    </td><td>          </td><td>acashellr2@mediafire.com       </td><td>NA</td><td>84669</td><td>7/29/2022 </td><td>music </td></tr>\n",
              "\t<tr><td>dupstellr3    </td><td>Durward Upstell     </td><td>          </td><td>dupstellr3@buzzfeed.com        </td><td>NA</td><td>58154</td><td>6/8/2020  </td><td>sports</td></tr>\n",
              "\t<tr><td>ksturdeyr4    </td><td>Krissie Sturdey     </td><td>8/13/1980 </td><td>ksturdeyr4@skyrock.com         </td><td>SA</td><td>37880</td><td>4/17/2020 </td><td>travel</td></tr>\n",
              "\t<tr><td>qrogeronr5    </td><td>Quent Rogeron       </td><td>          </td><td>qrogeronr5@merriam-webster.com </td><td>SA</td><td>76526</td><td>8/22/2023 </td><td>travel</td></tr>\n",
              "\t<tr><td>ggerrillr6    </td><td>Genevieve Gerrill   </td><td>8/16/1994 </td><td>ggerrillr6@xrea.com            </td><td>OC</td><td>78326</td><td>4/30/2022 </td><td>sports</td></tr>\n",
              "\t<tr><td>ftothacotr7   </td><td>Faustine Tothacot   </td><td>12/3/1998 </td><td>ftothacotr7@usgs.gov           </td><td>NA</td><td> 9927</td><td>          </td><td>sports</td></tr>\n",
              "\t<tr><td>dfordhamr8    </td><td>Dean Fordham        </td><td>5/6/1989  </td><td>dfordhamr8@google.com.au       </td><td>NA</td><td>94828</td><td>          </td><td>music </td></tr>\n",
              "\t<tr><td>rleningr9     </td><td>Roch Lening         </td><td>9/1/1981  </td><td>rleningr9@taobao.com           </td><td>OC</td><td>21333</td><td>2/23/2020 </td><td>music </td></tr>\n",
              "\t<tr><td>gbilbeyra     </td><td>Grannie Bilbey      </td><td>6/22/1992 </td><td>gbilbeyra@wisc.edu             </td><td>AS</td><td>77316</td><td>5/4/2022  </td><td>music </td></tr>\n",
              "\t<tr><td>araddenrb     </td><td>Anneliese Radden    </td><td>          </td><td>araddenrb@umn.edu              </td><td>NA</td><td>16230</td><td>          </td><td>music </td></tr>\n",
              "\t<tr><td>vskirlinrc    </td><td>Van Skirlin         </td><td>          </td><td>vskirlinrc@sphinn.com          </td><td>NA</td><td>14500</td><td>6/21/2021 </td><td>music </td></tr>\n",
              "\t<tr><td>efursserd     </td><td>Ekaterina Fursse    </td><td>7/13/1994 </td><td>efursserd@flickr.com           </td><td>AS</td><td>83588</td><td>          </td><td>travel</td></tr>\n",
              "\t<tr><td>acaldicottre  </td><td>Ashlee Caldicott    </td><td>2/2/1996  </td><td>acaldicottre@furl.net          </td><td>OC</td><td>67530</td><td>2/15/2022 </td><td>music </td></tr>\n",
              "\t<tr><td>fdorgonrf     </td><td>Fritz Dorgon        </td><td>          </td><td>fdorgonrf@homestead.com        </td><td>AS</td><td>33272</td><td>          </td><td>music </td></tr>\n",
              "\t<tr><td>kklicherg     </td><td>Kristine Kliche     </td><td>10/20/1983</td><td>kklicherg@indiatimes.com       </td><td>EU</td><td> 8487</td><td>          </td><td>music </td></tr>\n",
              "\t<tr><td>jbirchallrh   </td><td>Jinny Birchall      </td><td>11/3/1987 </td><td>jbirchallrh@senate.gov         </td><td>AF</td><td>76102</td><td>3/4/2022  </td><td>music </td></tr>\n",
              "\t<tr><td>lnorwellri    </td><td>Lelia Norwell       </td><td>          </td><td>lnorwellri@slate.com           </td><td>SA</td><td>51920</td><td>1/11/2023 </td><td>travel</td></tr>\n",
              "\t<tr><td>fwegenenrj    </td><td>Filippa Wegenen     </td><td>10/25/1994</td><td>fwegenenrj@nbcnews.com         </td><td>NA</td><td>68133</td><td>9/20/2023 </td><td>travel</td></tr>\n",
              "\t<tr><td>bpierrork     </td><td>Bobbie Pierro       </td><td>5/27/1991 </td><td>bpierrork@rambler.ru           </td><td>NA</td><td>81408</td><td>6/6/2023  </td><td>sports</td></tr>\n",
              "\t<tr><td>hransomrl     </td><td>Helenka Ransom      </td><td>          </td><td>hransomrl@qq.com               </td><td>EU</td><td>69467</td><td>7/29/2023 </td><td>music </td></tr>\n",
              "\t<tr><td>vmacterrellyrm</td><td>Virginie MacTerrelly</td><td>10/8/1994 </td><td>vmacterrellyrm@dailymotion.com </td><td>AS</td><td>   81</td><td>9/11/2023 </td><td>sports</td></tr>\n",
              "\t<tr><td>sschafflerrn  </td><td>Sallyann Schaffler  </td><td>12/7/1999 </td><td>sschafflerrn@wsj.com           </td><td>OC</td><td>89752</td><td>9/20/2020 </td><td>sports</td></tr>\n",
              "\t<tr><td>nilyinskiro   </td><td>Nanette Ilyinski    </td><td>5/13/1989 </td><td>nilyinskiro@123-reg.co.uk      </td><td>NA</td><td>47332</td><td>11/16/2020</td><td>sports</td></tr>\n",
              "\t<tr><td>sgeertzrp     </td><td>Stephen Geertz      </td><td>9/6/1994  </td><td>sgeertzrp@hp.com               </td><td>NA</td><td>36511</td><td>11/19/2022</td><td>music </td></tr>\n",
              "\t<tr><td>cchurchmanrq  </td><td>Chrisse Churchman   </td><td>4/23/1998 </td><td>cchurchmanrq@qq.com            </td><td>NA</td><td>84037</td><td>2/12/2022 </td><td>music </td></tr>\n",
              "\t<tr><td>crembrantrr   </td><td>Clementine Rembrant </td><td>3/15/2001 </td><td>crembrantrr@who.int            </td><td>NA</td><td>11336</td><td>3/2/2020  </td><td>music </td></tr>\n",
              "</tbody>\n",
              "</table>\n"
            ],
            "text/markdown": "\nA data.frame: 1000 × 8\n\n| username &lt;chr&gt; | full_name &lt;chr&gt; | birthdate &lt;chr&gt; | email &lt;chr&gt; | continent &lt;chr&gt; | followers &lt;int&gt; | last_login &lt;chr&gt; | interests &lt;chr&gt; |\n|---|---|---|---|---|---|---|---|\n| ckippen0      | Clevey Kippen     | 5/1/1991   | ckippen0@t-online.de               | NA | 12362 | 5/16/2023  | music  |\n| tgergler1     | Tedi Gergler      | 10/5/1998  | tgergler1@salon.com                | NA | 21360 | 8/20/2020  | sports |\n| spomfrett2    | Steffie Pomfrett  | <!----> | spomfrett2@imdb.com                | NA | 19530 | 11/19/2022 | sports |\n| rphettis3     | Ruddy Phettis     | 6/18/1984  | rphettis3@npr.org                  | EU | 80047 | 9/20/2023  | travel |\n| ngilcriest4   | Nico Gilcriest    | 10/11/1993 | ngilcriest4@dyndns.org             | NA | 33544 | <!----> | music  |\n| fhampson5     | Farrell Hampson   | 11/7/1985  | fhampson5@lulu.com                 | OC | 72161 | <!----> | sports |\n| ttotman6      | Tamqrah Totman    | 8/7/1986   | ttotman6@elpais.com                | AF | 42669 | 3/10/2023  | music  |\n| bdennes7      | Bonita Dennes     | <!----> | bdennes7@cnet.com                  | NA | 22516 | 2/3/2023   | sports |\n| kgrigoryev8   | Krishna Grigoryev | 5/25/1990  | kgrigoryev8@quantcast.com          | EU | 93923 | 1/30/2023  | travel |\n| mbathoe9      | Mallissa Bathoe   | <!----> | mbathoe9@bloomberg.com             | AS | 18554 | 3/5/2022   | travel |\n| hallensona    | Hayward Allenson  | 3/15/1983  | hallensona@wp.com                  | AF | 81042 | <!----> | travel |\n| mchittockb    | Myriam Chittock   | 1/26/1989  | mchittockb@uiuc.edu                | AF | 46304 | 8/29/2023  | sports |\n| mfranzewitchc | Max Franzewitch   | 12/25/1997 | mfranzewitchc@paginegialle.it      | NA |  5640 | <!----> | travel |\n| aeasbyd       | Alessandra Easby  | 1/5/1991   | aeasbyd@google.ca                  | AF | 16786 | 6/15/2023  | sports |\n| hschubarte    | Hubert Schubart   | 11/23/1984 | hschubarte@friendfeed.com          | NA | 74336 | <!----> | sports |\n| dleishmanf    | Dyane Leishman    | 2/12/1990  | dleishmanf@lycos.com               | NA | 85070 | 6/5/2021   | travel |\n| scoilsg       | Shayla Coils      | <!----> | scoilsg@hhs.gov                    | NA | 79667 | 10/14/2021 | travel |\n| bkrzysztofh   | Bendick Krzysztof | 10/19/1985 | bkrzysztofh@nationalgeographic.com | NA | 11748 | <!----> | music  |\n| omarusiki     | Otha Marusik      | 12/4/1992  | omarusiki@cdbaby.com               | AF | 93981 | 2/4/2022   | travel |\n| craglesj      | Constancia Ragles | <!----> | craglesj@e-recht24.de              | NA | 85300 | 9/28/2021  | sports |\n| sspenclayk    | Scott Spenclay    | 12/7/1989  | sspenclayk@wikispaces.com          | AF | 31745 | 11/29/2022 | sports |\n| gklinckl      | Georgetta Klinck  | 7/26/1996  | gklinckl@over-blog.com             | SA | 69386 | 9/10/2023  | sports |\n| rhollowm      | Riccardo Hollow   | 1/18/1980  | rhollowm@dyndns.org                | OC | 73088 | 1/22/2020  | sports |\n| atrouncen     | Aube Trounce      | 9/5/1984   | atrouncen@shinystat.com            | AS | 51692 | <!----> | music  |\n| jquareo       | Joey Quare        | 11/19/1999 | jquareo@furl.net                   | AF | 68116 | <!----> | sports |\n| rbellonp      | Rodolph Bellon    | 8/30/2002  | rbellonp@cisco.com                 | AF | 96337 | <!----> | music  |\n| chawesq       | Courtnay Hawes    | <!----> | chawesq@deviantart.com             | AF |   435 | 3/19/2023  | music  |\n| acheshirr     | Ali Cheshir       | 4/19/1998  | acheshirr@phoca.cz                 | AS | 79802 | <!----> | sports |\n| galdrins      | Gerick Aldrin     | 7/31/1995  | galdrins@ca.gov                    | NA | 96491 | 5/26/2022  | music  |\n| ddimmockt     | Didi Dimmock      | 5/15/1985  | ddimmockt@wired.com                | EU | 81726 | 4/23/2021  | sports |\n| ⋮ | ⋮ | ⋮ | ⋮ | ⋮ | ⋮ | ⋮ | ⋮ |\n| sargerqy       | Shane Arger          | 2/21/1992  | sargerqy@exblog.jp              | AF | 53022 | 12/7/2021  | music  |\n| jgiorgiuttiqz  | Joy Giorgiutti       | 5/5/1988   | jgiorgiuttiqz@timesonline.co.uk | NA | 26125 | 6/1/2020   | travel |\n| bgerwoodr0     | Beverlee Gerwood     | 1/29/1980  | bgerwoodr0@fotki.com            | AS | 22633 | <!----> | music  |\n| fheinker1      | Fleurette Heinke     | <!----> | fheinker1@google.fr             | NA | 39891 | 8/17/2020  | travel |\n| acashellr2     | Aridatha Cashell     | <!----> | acashellr2@mediafire.com        | NA | 84669 | 7/29/2022  | music  |\n| dupstellr3     | Durward Upstell      | <!----> | dupstellr3@buzzfeed.com         | NA | 58154 | 6/8/2020   | sports |\n| ksturdeyr4     | Krissie Sturdey      | 8/13/1980  | ksturdeyr4@skyrock.com          | SA | 37880 | 4/17/2020  | travel |\n| qrogeronr5     | Quent Rogeron        | <!----> | qrogeronr5@merriam-webster.com  | SA | 76526 | 8/22/2023  | travel |\n| ggerrillr6     | Genevieve Gerrill    | 8/16/1994  | ggerrillr6@xrea.com             | OC | 78326 | 4/30/2022  | sports |\n| ftothacotr7    | Faustine Tothacot    | 12/3/1998  | ftothacotr7@usgs.gov            | NA |  9927 | <!----> | sports |\n| dfordhamr8     | Dean Fordham         | 5/6/1989   | dfordhamr8@google.com.au        | NA | 94828 | <!----> | music  |\n| rleningr9      | Roch Lening          | 9/1/1981   | rleningr9@taobao.com            | OC | 21333 | 2/23/2020  | music  |\n| gbilbeyra      | Grannie Bilbey       | 6/22/1992  | gbilbeyra@wisc.edu              | AS | 77316 | 5/4/2022   | music  |\n| araddenrb      | Anneliese Radden     | <!----> | araddenrb@umn.edu               | NA | 16230 | <!----> | music  |\n| vskirlinrc     | Van Skirlin          | <!----> | vskirlinrc@sphinn.com           | NA | 14500 | 6/21/2021  | music  |\n| efursserd      | Ekaterina Fursse     | 7/13/1994  | efursserd@flickr.com            | AS | 83588 | <!----> | travel |\n| acaldicottre   | Ashlee Caldicott     | 2/2/1996   | acaldicottre@furl.net           | OC | 67530 | 2/15/2022  | music  |\n| fdorgonrf      | Fritz Dorgon         | <!----> | fdorgonrf@homestead.com         | AS | 33272 | <!----> | music  |\n| kklicherg      | Kristine Kliche      | 10/20/1983 | kklicherg@indiatimes.com        | EU |  8487 | <!----> | music  |\n| jbirchallrh    | Jinny Birchall       | 11/3/1987  | jbirchallrh@senate.gov          | AF | 76102 | 3/4/2022   | music  |\n| lnorwellri     | Lelia Norwell        | <!----> | lnorwellri@slate.com            | SA | 51920 | 1/11/2023  | travel |\n| fwegenenrj     | Filippa Wegenen      | 10/25/1994 | fwegenenrj@nbcnews.com          | NA | 68133 | 9/20/2023  | travel |\n| bpierrork      | Bobbie Pierro        | 5/27/1991  | bpierrork@rambler.ru            | NA | 81408 | 6/6/2023   | sports |\n| hransomrl      | Helenka Ransom       | <!----> | hransomrl@qq.com                | EU | 69467 | 7/29/2023  | music  |\n| vmacterrellyrm | Virginie MacTerrelly | 10/8/1994  | vmacterrellyrm@dailymotion.com  | AS |    81 | 9/11/2023  | sports |\n| sschafflerrn   | Sallyann Schaffler   | 12/7/1999  | sschafflerrn@wsj.com            | OC | 89752 | 9/20/2020  | sports |\n| nilyinskiro    | Nanette Ilyinski     | 5/13/1989  | nilyinskiro@123-reg.co.uk       | NA | 47332 | 11/16/2020 | sports |\n| sgeertzrp      | Stephen Geertz       | 9/6/1994   | sgeertzrp@hp.com                | NA | 36511 | 11/19/2022 | music  |\n| cchurchmanrq   | Chrisse Churchman    | 4/23/1998  | cchurchmanrq@qq.com             | NA | 84037 | 2/12/2022  | music  |\n| crembrantrr    | Clementine Rembrant  | 3/15/2001  | crembrantrr@who.int             | NA | 11336 | 3/2/2020   | music  |\n\n",
            "text/latex": "A data.frame: 1000 × 8\n\\begin{tabular}{llllllll}\n username & full\\_name & birthdate & email & continent & followers & last\\_login & interests\\\\\n <chr> & <chr> & <chr> & <chr> & <chr> & <int> & <chr> & <chr>\\\\\n\\hline\n\t ckippen0      & Clevey Kippen     & 5/1/1991   & ckippen0@t-online.de               & NA & 12362 & 5/16/2023  & music \\\\\n\t tgergler1     & Tedi Gergler      & 10/5/1998  & tgergler1@salon.com                & NA & 21360 & 8/20/2020  & sports\\\\\n\t spomfrett2    & Steffie Pomfrett  &            & spomfrett2@imdb.com                & NA & 19530 & 11/19/2022 & sports\\\\\n\t rphettis3     & Ruddy Phettis     & 6/18/1984  & rphettis3@npr.org                  & EU & 80047 & 9/20/2023  & travel\\\\\n\t ngilcriest4   & Nico Gilcriest    & 10/11/1993 & ngilcriest4@dyndns.org             & NA & 33544 &            & music \\\\\n\t fhampson5     & Farrell Hampson   & 11/7/1985  & fhampson5@lulu.com                 & OC & 72161 &            & sports\\\\\n\t ttotman6      & Tamqrah Totman    & 8/7/1986   & ttotman6@elpais.com                & AF & 42669 & 3/10/2023  & music \\\\\n\t bdennes7      & Bonita Dennes     &            & bdennes7@cnet.com                  & NA & 22516 & 2/3/2023   & sports\\\\\n\t kgrigoryev8   & Krishna Grigoryev & 5/25/1990  & kgrigoryev8@quantcast.com          & EU & 93923 & 1/30/2023  & travel\\\\\n\t mbathoe9      & Mallissa Bathoe   &            & mbathoe9@bloomberg.com             & AS & 18554 & 3/5/2022   & travel\\\\\n\t hallensona    & Hayward Allenson  & 3/15/1983  & hallensona@wp.com                  & AF & 81042 &            & travel\\\\\n\t mchittockb    & Myriam Chittock   & 1/26/1989  & mchittockb@uiuc.edu                & AF & 46304 & 8/29/2023  & sports\\\\\n\t mfranzewitchc & Max Franzewitch   & 12/25/1997 & mfranzewitchc@paginegialle.it      & NA &  5640 &            & travel\\\\\n\t aeasbyd       & Alessandra Easby  & 1/5/1991   & aeasbyd@google.ca                  & AF & 16786 & 6/15/2023  & sports\\\\\n\t hschubarte    & Hubert Schubart   & 11/23/1984 & hschubarte@friendfeed.com          & NA & 74336 &            & sports\\\\\n\t dleishmanf    & Dyane Leishman    & 2/12/1990  & dleishmanf@lycos.com               & NA & 85070 & 6/5/2021   & travel\\\\\n\t scoilsg       & Shayla Coils      &            & scoilsg@hhs.gov                    & NA & 79667 & 10/14/2021 & travel\\\\\n\t bkrzysztofh   & Bendick Krzysztof & 10/19/1985 & bkrzysztofh@nationalgeographic.com & NA & 11748 &            & music \\\\\n\t omarusiki     & Otha Marusik      & 12/4/1992  & omarusiki@cdbaby.com               & AF & 93981 & 2/4/2022   & travel\\\\\n\t craglesj      & Constancia Ragles &            & craglesj@e-recht24.de              & NA & 85300 & 9/28/2021  & sports\\\\\n\t sspenclayk    & Scott Spenclay    & 12/7/1989  & sspenclayk@wikispaces.com          & AF & 31745 & 11/29/2022 & sports\\\\\n\t gklinckl      & Georgetta Klinck  & 7/26/1996  & gklinckl@over-blog.com             & SA & 69386 & 9/10/2023  & sports\\\\\n\t rhollowm      & Riccardo Hollow   & 1/18/1980  & rhollowm@dyndns.org                & OC & 73088 & 1/22/2020  & sports\\\\\n\t atrouncen     & Aube Trounce      & 9/5/1984   & atrouncen@shinystat.com            & AS & 51692 &            & music \\\\\n\t jquareo       & Joey Quare        & 11/19/1999 & jquareo@furl.net                   & AF & 68116 &            & sports\\\\\n\t rbellonp      & Rodolph Bellon    & 8/30/2002  & rbellonp@cisco.com                 & AF & 96337 &            & music \\\\\n\t chawesq       & Courtnay Hawes    &            & chawesq@deviantart.com             & AF &   435 & 3/19/2023  & music \\\\\n\t acheshirr     & Ali Cheshir       & 4/19/1998  & acheshirr@phoca.cz                 & AS & 79802 &            & sports\\\\\n\t galdrins      & Gerick Aldrin     & 7/31/1995  & galdrins@ca.gov                    & NA & 96491 & 5/26/2022  & music \\\\\n\t ddimmockt     & Didi Dimmock      & 5/15/1985  & ddimmockt@wired.com                & EU & 81726 & 4/23/2021  & sports\\\\\n\t ⋮ & ⋮ & ⋮ & ⋮ & ⋮ & ⋮ & ⋮ & ⋮\\\\\n\t sargerqy       & Shane Arger          & 2/21/1992  & sargerqy@exblog.jp              & AF & 53022 & 12/7/2021  & music \\\\\n\t jgiorgiuttiqz  & Joy Giorgiutti       & 5/5/1988   & jgiorgiuttiqz@timesonline.co.uk & NA & 26125 & 6/1/2020   & travel\\\\\n\t bgerwoodr0     & Beverlee Gerwood     & 1/29/1980  & bgerwoodr0@fotki.com            & AS & 22633 &            & music \\\\\n\t fheinker1      & Fleurette Heinke     &            & fheinker1@google.fr             & NA & 39891 & 8/17/2020  & travel\\\\\n\t acashellr2     & Aridatha Cashell     &            & acashellr2@mediafire.com        & NA & 84669 & 7/29/2022  & music \\\\\n\t dupstellr3     & Durward Upstell      &            & dupstellr3@buzzfeed.com         & NA & 58154 & 6/8/2020   & sports\\\\\n\t ksturdeyr4     & Krissie Sturdey      & 8/13/1980  & ksturdeyr4@skyrock.com          & SA & 37880 & 4/17/2020  & travel\\\\\n\t qrogeronr5     & Quent Rogeron        &            & qrogeronr5@merriam-webster.com  & SA & 76526 & 8/22/2023  & travel\\\\\n\t ggerrillr6     & Genevieve Gerrill    & 8/16/1994  & ggerrillr6@xrea.com             & OC & 78326 & 4/30/2022  & sports\\\\\n\t ftothacotr7    & Faustine Tothacot    & 12/3/1998  & ftothacotr7@usgs.gov            & NA &  9927 &            & sports\\\\\n\t dfordhamr8     & Dean Fordham         & 5/6/1989   & dfordhamr8@google.com.au        & NA & 94828 &            & music \\\\\n\t rleningr9      & Roch Lening          & 9/1/1981   & rleningr9@taobao.com            & OC & 21333 & 2/23/2020  & music \\\\\n\t gbilbeyra      & Grannie Bilbey       & 6/22/1992  & gbilbeyra@wisc.edu              & AS & 77316 & 5/4/2022   & music \\\\\n\t araddenrb      & Anneliese Radden     &            & araddenrb@umn.edu               & NA & 16230 &            & music \\\\\n\t vskirlinrc     & Van Skirlin          &            & vskirlinrc@sphinn.com           & NA & 14500 & 6/21/2021  & music \\\\\n\t efursserd      & Ekaterina Fursse     & 7/13/1994  & efursserd@flickr.com            & AS & 83588 &            & travel\\\\\n\t acaldicottre   & Ashlee Caldicott     & 2/2/1996   & acaldicottre@furl.net           & OC & 67530 & 2/15/2022  & music \\\\\n\t fdorgonrf      & Fritz Dorgon         &            & fdorgonrf@homestead.com         & AS & 33272 &            & music \\\\\n\t kklicherg      & Kristine Kliche      & 10/20/1983 & kklicherg@indiatimes.com        & EU &  8487 &            & music \\\\\n\t jbirchallrh    & Jinny Birchall       & 11/3/1987  & jbirchallrh@senate.gov          & AF & 76102 & 3/4/2022   & music \\\\\n\t lnorwellri     & Lelia Norwell        &            & lnorwellri@slate.com            & SA & 51920 & 1/11/2023  & travel\\\\\n\t fwegenenrj     & Filippa Wegenen      & 10/25/1994 & fwegenenrj@nbcnews.com          & NA & 68133 & 9/20/2023  & travel\\\\\n\t bpierrork      & Bobbie Pierro        & 5/27/1991  & bpierrork@rambler.ru            & NA & 81408 & 6/6/2023   & sports\\\\\n\t hransomrl      & Helenka Ransom       &            & hransomrl@qq.com                & EU & 69467 & 7/29/2023  & music \\\\\n\t vmacterrellyrm & Virginie MacTerrelly & 10/8/1994  & vmacterrellyrm@dailymotion.com  & AS &    81 & 9/11/2023  & sports\\\\\n\t sschafflerrn   & Sallyann Schaffler   & 12/7/1999  & sschafflerrn@wsj.com            & OC & 89752 & 9/20/2020  & sports\\\\\n\t nilyinskiro    & Nanette Ilyinski     & 5/13/1989  & nilyinskiro@123-reg.co.uk       & NA & 47332 & 11/16/2020 & sports\\\\\n\t sgeertzrp      & Stephen Geertz       & 9/6/1994   & sgeertzrp@hp.com                & NA & 36511 & 11/19/2022 & music \\\\\n\t cchurchmanrq   & Chrisse Churchman    & 4/23/1998  & cchurchmanrq@qq.com             & NA & 84037 & 2/12/2022  & music \\\\\n\t crembrantrr    & Clementine Rembrant  & 3/15/2001  & crembrantrr@who.int             & NA & 11336 & 3/2/2020   & music \\\\\n\\end{tabular}\n",
            "text/plain": [
              "     username       full_name            birthdate \n",
              "1    ckippen0       Clevey Kippen        5/1/1991  \n",
              "2    tgergler1      Tedi Gergler         10/5/1998 \n",
              "3    spomfrett2     Steffie Pomfrett               \n",
              "4    rphettis3      Ruddy Phettis        6/18/1984 \n",
              "5    ngilcriest4    Nico Gilcriest       10/11/1993\n",
              "6    fhampson5      Farrell Hampson      11/7/1985 \n",
              "7    ttotman6       Tamqrah Totman       8/7/1986  \n",
              "8    bdennes7       Bonita Dennes                  \n",
              "9    kgrigoryev8    Krishna Grigoryev    5/25/1990 \n",
              "10   mbathoe9       Mallissa Bathoe                \n",
              "11   hallensona     Hayward Allenson     3/15/1983 \n",
              "12   mchittockb     Myriam Chittock      1/26/1989 \n",
              "13   mfranzewitchc  Max Franzewitch      12/25/1997\n",
              "14   aeasbyd        Alessandra Easby     1/5/1991  \n",
              "15   hschubarte     Hubert Schubart      11/23/1984\n",
              "16   dleishmanf     Dyane Leishman       2/12/1990 \n",
              "17   scoilsg        Shayla Coils                   \n",
              "18   bkrzysztofh    Bendick Krzysztof    10/19/1985\n",
              "19   omarusiki      Otha Marusik         12/4/1992 \n",
              "20   craglesj       Constancia Ragles              \n",
              "21   sspenclayk     Scott Spenclay       12/7/1989 \n",
              "22   gklinckl       Georgetta Klinck     7/26/1996 \n",
              "23   rhollowm       Riccardo Hollow      1/18/1980 \n",
              "24   atrouncen      Aube Trounce         9/5/1984  \n",
              "25   jquareo        Joey Quare           11/19/1999\n",
              "26   rbellonp       Rodolph Bellon       8/30/2002 \n",
              "27   chawesq        Courtnay Hawes                 \n",
              "28   acheshirr      Ali Cheshir          4/19/1998 \n",
              "29   galdrins       Gerick Aldrin        7/31/1995 \n",
              "30   ddimmockt      Didi Dimmock         5/15/1985 \n",
              "⋮    ⋮              ⋮                    ⋮         \n",
              "971  sargerqy       Shane Arger          2/21/1992 \n",
              "972  jgiorgiuttiqz  Joy Giorgiutti       5/5/1988  \n",
              "973  bgerwoodr0     Beverlee Gerwood     1/29/1980 \n",
              "974  fheinker1      Fleurette Heinke               \n",
              "975  acashellr2     Aridatha Cashell               \n",
              "976  dupstellr3     Durward Upstell                \n",
              "977  ksturdeyr4     Krissie Sturdey      8/13/1980 \n",
              "978  qrogeronr5     Quent Rogeron                  \n",
              "979  ggerrillr6     Genevieve Gerrill    8/16/1994 \n",
              "980  ftothacotr7    Faustine Tothacot    12/3/1998 \n",
              "981  dfordhamr8     Dean Fordham         5/6/1989  \n",
              "982  rleningr9      Roch Lening          9/1/1981  \n",
              "983  gbilbeyra      Grannie Bilbey       6/22/1992 \n",
              "984  araddenrb      Anneliese Radden               \n",
              "985  vskirlinrc     Van Skirlin                    \n",
              "986  efursserd      Ekaterina Fursse     7/13/1994 \n",
              "987  acaldicottre   Ashlee Caldicott     2/2/1996  \n",
              "988  fdorgonrf      Fritz Dorgon                   \n",
              "989  kklicherg      Kristine Kliche      10/20/1983\n",
              "990  jbirchallrh    Jinny Birchall       11/3/1987 \n",
              "991  lnorwellri     Lelia Norwell                  \n",
              "992  fwegenenrj     Filippa Wegenen      10/25/1994\n",
              "993  bpierrork      Bobbie Pierro        5/27/1991 \n",
              "994  hransomrl      Helenka Ransom                 \n",
              "995  vmacterrellyrm Virginie MacTerrelly 10/8/1994 \n",
              "996  sschafflerrn   Sallyann Schaffler   12/7/1999 \n",
              "997  nilyinskiro    Nanette Ilyinski     5/13/1989 \n",
              "998  sgeertzrp      Stephen Geertz       9/6/1994  \n",
              "999  cchurchmanrq   Chrisse Churchman    4/23/1998 \n",
              "1000 crembrantrr    Clementine Rembrant  3/15/2001 \n",
              "     email                              continent followers last_login\n",
              "1    ckippen0@t-online.de               NA        12362     5/16/2023 \n",
              "2    tgergler1@salon.com                NA        21360     8/20/2020 \n",
              "3    spomfrett2@imdb.com                NA        19530     11/19/2022\n",
              "4    rphettis3@npr.org                  EU        80047     9/20/2023 \n",
              "5    ngilcriest4@dyndns.org             NA        33544               \n",
              "6    fhampson5@lulu.com                 OC        72161               \n",
              "7    ttotman6@elpais.com                AF        42669     3/10/2023 \n",
              "8    bdennes7@cnet.com                  NA        22516     2/3/2023  \n",
              "9    kgrigoryev8@quantcast.com          EU        93923     1/30/2023 \n",
              "10   mbathoe9@bloomberg.com             AS        18554     3/5/2022  \n",
              "11   hallensona@wp.com                  AF        81042               \n",
              "12   mchittockb@uiuc.edu                AF        46304     8/29/2023 \n",
              "13   mfranzewitchc@paginegialle.it      NA         5640               \n",
              "14   aeasbyd@google.ca                  AF        16786     6/15/2023 \n",
              "15   hschubarte@friendfeed.com          NA        74336               \n",
              "16   dleishmanf@lycos.com               NA        85070     6/5/2021  \n",
              "17   scoilsg@hhs.gov                    NA        79667     10/14/2021\n",
              "18   bkrzysztofh@nationalgeographic.com NA        11748               \n",
              "19   omarusiki@cdbaby.com               AF        93981     2/4/2022  \n",
              "20   craglesj@e-recht24.de              NA        85300     9/28/2021 \n",
              "21   sspenclayk@wikispaces.com          AF        31745     11/29/2022\n",
              "22   gklinckl@over-blog.com             SA        69386     9/10/2023 \n",
              "23   rhollowm@dyndns.org                OC        73088     1/22/2020 \n",
              "24   atrouncen@shinystat.com            AS        51692               \n",
              "25   jquareo@furl.net                   AF        68116               \n",
              "26   rbellonp@cisco.com                 AF        96337               \n",
              "27   chawesq@deviantart.com             AF          435     3/19/2023 \n",
              "28   acheshirr@phoca.cz                 AS        79802               \n",
              "29   galdrins@ca.gov                    NA        96491     5/26/2022 \n",
              "30   ddimmockt@wired.com                EU        81726     4/23/2021 \n",
              "⋮    ⋮                                  ⋮         ⋮         ⋮         \n",
              "971  sargerqy@exblog.jp                 AF        53022     12/7/2021 \n",
              "972  jgiorgiuttiqz@timesonline.co.uk    NA        26125     6/1/2020  \n",
              "973  bgerwoodr0@fotki.com               AS        22633               \n",
              "974  fheinker1@google.fr                NA        39891     8/17/2020 \n",
              "975  acashellr2@mediafire.com           NA        84669     7/29/2022 \n",
              "976  dupstellr3@buzzfeed.com            NA        58154     6/8/2020  \n",
              "977  ksturdeyr4@skyrock.com             SA        37880     4/17/2020 \n",
              "978  qrogeronr5@merriam-webster.com     SA        76526     8/22/2023 \n",
              "979  ggerrillr6@xrea.com                OC        78326     4/30/2022 \n",
              "980  ftothacotr7@usgs.gov               NA         9927               \n",
              "981  dfordhamr8@google.com.au           NA        94828               \n",
              "982  rleningr9@taobao.com               OC        21333     2/23/2020 \n",
              "983  gbilbeyra@wisc.edu                 AS        77316     5/4/2022  \n",
              "984  araddenrb@umn.edu                  NA        16230               \n",
              "985  vskirlinrc@sphinn.com              NA        14500     6/21/2021 \n",
              "986  efursserd@flickr.com               AS        83588               \n",
              "987  acaldicottre@furl.net              OC        67530     2/15/2022 \n",
              "988  fdorgonrf@homestead.com            AS        33272               \n",
              "989  kklicherg@indiatimes.com           EU         8487               \n",
              "990  jbirchallrh@senate.gov             AF        76102     3/4/2022  \n",
              "991  lnorwellri@slate.com               SA        51920     1/11/2023 \n",
              "992  fwegenenrj@nbcnews.com             NA        68133     9/20/2023 \n",
              "993  bpierrork@rambler.ru               NA        81408     6/6/2023  \n",
              "994  hransomrl@qq.com                   EU        69467     7/29/2023 \n",
              "995  vmacterrellyrm@dailymotion.com     AS           81     9/11/2023 \n",
              "996  sschafflerrn@wsj.com               OC        89752     9/20/2020 \n",
              "997  nilyinskiro@123-reg.co.uk          NA        47332     11/16/2020\n",
              "998  sgeertzrp@hp.com                   NA        36511     11/19/2022\n",
              "999  cchurchmanrq@qq.com                NA        84037     2/12/2022 \n",
              "1000 crembrantrr@who.int                NA        11336     3/2/2020  \n",
              "     interests\n",
              "1    music    \n",
              "2    sports   \n",
              "3    sports   \n",
              "4    travel   \n",
              "5    music    \n",
              "6    sports   \n",
              "7    music    \n",
              "8    sports   \n",
              "9    travel   \n",
              "10   travel   \n",
              "11   travel   \n",
              "12   sports   \n",
              "13   travel   \n",
              "14   sports   \n",
              "15   sports   \n",
              "16   travel   \n",
              "17   travel   \n",
              "18   music    \n",
              "19   travel   \n",
              "20   sports   \n",
              "21   sports   \n",
              "22   sports   \n",
              "23   sports   \n",
              "24   music    \n",
              "25   sports   \n",
              "26   music    \n",
              "27   music    \n",
              "28   sports   \n",
              "29   music    \n",
              "30   sports   \n",
              "⋮    ⋮        \n",
              "971  music    \n",
              "972  travel   \n",
              "973  music    \n",
              "974  travel   \n",
              "975  music    \n",
              "976  sports   \n",
              "977  travel   \n",
              "978  travel   \n",
              "979  sports   \n",
              "980  sports   \n",
              "981  music    \n",
              "982  music    \n",
              "983  music    \n",
              "984  music    \n",
              "985  music    \n",
              "986  travel   \n",
              "987  music    \n",
              "988  music    \n",
              "989  music    \n",
              "990  music    \n",
              "991  travel   \n",
              "992  travel   \n",
              "993  sports   \n",
              "994  music    \n",
              "995  sports   \n",
              "996  sports   \n",
              "997  sports   \n",
              "998  music    \n",
              "999  music    \n",
              "1000 music    "
            ]
          },
          "metadata": {}
        }
      ]
    },
    {
      "cell_type": "code",
      "source": [
        "#\n",
        "top10 <- socialMediaData %>% arrange(desc(followers)) %>% head(10)\n",
        "top10"
      ],
      "metadata": {
        "id": "7qa100btlI4Z",
        "colab": {
          "base_uri": "https://localhost:8080/",
          "height": 411
        },
        "outputId": "4f250285-b714-42cb-88f5-4bd738db8cc9"
      },
      "execution_count": 19,
      "outputs": [
        {
          "output_type": "display_data",
          "data": {
            "text/html": [
              "<table class=\"dataframe\">\n",
              "<caption>A data.frame: 10 × 8</caption>\n",
              "<thead>\n",
              "\t<tr><th></th><th scope=col>username</th><th scope=col>full_name</th><th scope=col>birthdate</th><th scope=col>email</th><th scope=col>continent</th><th scope=col>followers</th><th scope=col>last_login</th><th scope=col>interests</th></tr>\n",
              "\t<tr><th></th><th scope=col>&lt;chr&gt;</th><th scope=col>&lt;chr&gt;</th><th scope=col>&lt;chr&gt;</th><th scope=col>&lt;chr&gt;</th><th scope=col>&lt;chr&gt;</th><th scope=col>&lt;int&gt;</th><th scope=col>&lt;chr&gt;</th><th scope=col>&lt;chr&gt;</th></tr>\n",
              "</thead>\n",
              "<tbody>\n",
              "\t<tr><th scope=row>1</th><td>lleckeyb6    </td><td>Lynne Leckey    </td><td>4/19/1998 </td><td>lleckeyb6@tripadvisor.com         </td><td>SA</td><td>99977</td><td>3/14/2021 </td><td>sports</td></tr>\n",
              "\t<tr><th scope=row>2</th><td>spharoaha2   </td><td>Staci Pharoah   </td><td>9/2/1985  </td><td>spharoaha2@sfgate.com             </td><td>NA</td><td>99905</td><td>10/26/2023</td><td>sports</td></tr>\n",
              "\t<tr><th scope=row>3</th><td>dpagettqf    </td><td>Des Pagett      </td><td>4/1/1992  </td><td>dpagettqf@360.cn                  </td><td>NA</td><td>99854</td><td>          </td><td>music </td></tr>\n",
              "\t<tr><th scope=row>4</th><td>cbraderkb    </td><td>Cody Brader     </td><td>          </td><td>cbraderkb@lulu.com                </td><td>AF</td><td>99747</td><td>6/19/2021 </td><td>music </td></tr>\n",
              "\t<tr><th scope=row>5</th><td>djagerdv     </td><td>Deeyn Jager     </td><td>          </td><td>djagerdv@posterous.com            </td><td>AF</td><td>99731</td><td>4/7/2022  </td><td>travel</td></tr>\n",
              "\t<tr><th scope=row>6</th><td>cduftondy    </td><td>Celisse Dufton  </td><td>8/24/1995 </td><td>cduftondy@ox.ac.uk                </td><td>OC</td><td>99707</td><td>9/26/2021 </td><td>sports</td></tr>\n",
              "\t<tr><th scope=row>7</th><td>dbartalin77  </td><td>Desiree Bartalin</td><td>8/23/1993 </td><td>dbartalin77@usda.gov              </td><td>AF</td><td>99618</td><td>5/30/2022 </td><td>music </td></tr>\n",
              "\t<tr><th scope=row>8</th><td>grivardmp    </td><td>Gwen Rivard     </td><td>9/12/1982 </td><td>grivardmp@google.com.hk           </td><td>OC</td><td>99526</td><td>4/4/2020  </td><td>music </td></tr>\n",
              "\t<tr><th scope=row>9</th><td>mraggitt9g   </td><td>Morgan Raggitt  </td><td>11/16/1992</td><td>mraggitt9g@home.pl                </td><td>NA</td><td>99508</td><td>11/12/2021</td><td>music </td></tr>\n",
              "\t<tr><th scope=row>10</th><td>vshallcrass3p</td><td>Vally Shallcrass</td><td>9/26/2002 </td><td>vshallcrass3p@pagesperso-orange.fr</td><td>NA</td><td>99419</td><td>          </td><td>music </td></tr>\n",
              "</tbody>\n",
              "</table>\n"
            ],
            "text/markdown": "\nA data.frame: 10 × 8\n\n| <!--/--> | username &lt;chr&gt; | full_name &lt;chr&gt; | birthdate &lt;chr&gt; | email &lt;chr&gt; | continent &lt;chr&gt; | followers &lt;int&gt; | last_login &lt;chr&gt; | interests &lt;chr&gt; |\n|---|---|---|---|---|---|---|---|---|\n| 1 | lleckeyb6     | Lynne Leckey     | 4/19/1998  | lleckeyb6@tripadvisor.com          | SA | 99977 | 3/14/2021  | sports |\n| 2 | spharoaha2    | Staci Pharoah    | 9/2/1985   | spharoaha2@sfgate.com              | NA | 99905 | 10/26/2023 | sports |\n| 3 | dpagettqf     | Des Pagett       | 4/1/1992   | dpagettqf@360.cn                   | NA | 99854 | <!----> | music  |\n| 4 | cbraderkb     | Cody Brader      | <!----> | cbraderkb@lulu.com                 | AF | 99747 | 6/19/2021  | music  |\n| 5 | djagerdv      | Deeyn Jager      | <!----> | djagerdv@posterous.com             | AF | 99731 | 4/7/2022   | travel |\n| 6 | cduftondy     | Celisse Dufton   | 8/24/1995  | cduftondy@ox.ac.uk                 | OC | 99707 | 9/26/2021  | sports |\n| 7 | dbartalin77   | Desiree Bartalin | 8/23/1993  | dbartalin77@usda.gov               | AF | 99618 | 5/30/2022  | music  |\n| 8 | grivardmp     | Gwen Rivard      | 9/12/1982  | grivardmp@google.com.hk            | OC | 99526 | 4/4/2020   | music  |\n| 9 | mraggitt9g    | Morgan Raggitt   | 11/16/1992 | mraggitt9g@home.pl                 | NA | 99508 | 11/12/2021 | music  |\n| 10 | vshallcrass3p | Vally Shallcrass | 9/26/2002  | vshallcrass3p@pagesperso-orange.fr | NA | 99419 | <!----> | music  |\n\n",
            "text/latex": "A data.frame: 10 × 8\n\\begin{tabular}{r|llllllll}\n  & username & full\\_name & birthdate & email & continent & followers & last\\_login & interests\\\\\n  & <chr> & <chr> & <chr> & <chr> & <chr> & <int> & <chr> & <chr>\\\\\n\\hline\n\t1 & lleckeyb6     & Lynne Leckey     & 4/19/1998  & lleckeyb6@tripadvisor.com          & SA & 99977 & 3/14/2021  & sports\\\\\n\t2 & spharoaha2    & Staci Pharoah    & 9/2/1985   & spharoaha2@sfgate.com              & NA & 99905 & 10/26/2023 & sports\\\\\n\t3 & dpagettqf     & Des Pagett       & 4/1/1992   & dpagettqf@360.cn                   & NA & 99854 &            & music \\\\\n\t4 & cbraderkb     & Cody Brader      &            & cbraderkb@lulu.com                 & AF & 99747 & 6/19/2021  & music \\\\\n\t5 & djagerdv      & Deeyn Jager      &            & djagerdv@posterous.com             & AF & 99731 & 4/7/2022   & travel\\\\\n\t6 & cduftondy     & Celisse Dufton   & 8/24/1995  & cduftondy@ox.ac.uk                 & OC & 99707 & 9/26/2021  & sports\\\\\n\t7 & dbartalin77   & Desiree Bartalin & 8/23/1993  & dbartalin77@usda.gov               & AF & 99618 & 5/30/2022  & music \\\\\n\t8 & grivardmp     & Gwen Rivard      & 9/12/1982  & grivardmp@google.com.hk            & OC & 99526 & 4/4/2020   & music \\\\\n\t9 & mraggitt9g    & Morgan Raggitt   & 11/16/1992 & mraggitt9g@home.pl                 & NA & 99508 & 11/12/2021 & music \\\\\n\t10 & vshallcrass3p & Vally Shallcrass & 9/26/2002  & vshallcrass3p@pagesperso-orange.fr & NA & 99419 &            & music \\\\\n\\end{tabular}\n",
            "text/plain": [
              "   username      full_name        birthdate  email                             \n",
              "1  lleckeyb6     Lynne Leckey     4/19/1998  lleckeyb6@tripadvisor.com         \n",
              "2  spharoaha2    Staci Pharoah    9/2/1985   spharoaha2@sfgate.com             \n",
              "3  dpagettqf     Des Pagett       4/1/1992   dpagettqf@360.cn                  \n",
              "4  cbraderkb     Cody Brader                 cbraderkb@lulu.com                \n",
              "5  djagerdv      Deeyn Jager                 djagerdv@posterous.com            \n",
              "6  cduftondy     Celisse Dufton   8/24/1995  cduftondy@ox.ac.uk                \n",
              "7  dbartalin77   Desiree Bartalin 8/23/1993  dbartalin77@usda.gov              \n",
              "8  grivardmp     Gwen Rivard      9/12/1982  grivardmp@google.com.hk           \n",
              "9  mraggitt9g    Morgan Raggitt   11/16/1992 mraggitt9g@home.pl                \n",
              "10 vshallcrass3p Vally Shallcrass 9/26/2002  vshallcrass3p@pagesperso-orange.fr\n",
              "   continent followers last_login interests\n",
              "1  SA        99977     3/14/2021  sports   \n",
              "2  NA        99905     10/26/2023 sports   \n",
              "3  NA        99854                music    \n",
              "4  AF        99747     6/19/2021  music    \n",
              "5  AF        99731     4/7/2022   travel   \n",
              "6  OC        99707     9/26/2021  sports   \n",
              "7  AF        99618     5/30/2022  music    \n",
              "8  OC        99526     4/4/2020   music    \n",
              "9  NA        99508     11/12/2021 music    \n",
              "10 NA        99419                music    "
            ]
          },
          "metadata": {}
        }
      ]
    },
    {
      "cell_type": "code",
      "source": [
        "#\n",
        "userCount <- socialMediaData %>% group_by(continent) %>% summarise(user_count = n())\n",
        "userCount"
      ],
      "metadata": {
        "id": "MjrZisnxlJUa",
        "colab": {
          "base_uri": "https://localhost:8080/",
          "height": 317
        },
        "outputId": "0200e0d5-433b-4542-b357-88f399859df9"
      },
      "execution_count": 25,
      "outputs": [
        {
          "output_type": "display_data",
          "data": {
            "text/html": [
              "<table class=\"dataframe\">\n",
              "<caption>A tibble: 7 × 2</caption>\n",
              "<thead>\n",
              "\t<tr><th scope=col>continent</th><th scope=col>user_count</th></tr>\n",
              "\t<tr><th scope=col>&lt;chr&gt;</th><th scope=col>&lt;int&gt;</th></tr>\n",
              "</thead>\n",
              "<tbody>\n",
              "\t<tr><td>AF</td><td>103</td></tr>\n",
              "\t<tr><td>AN</td><td>  1</td></tr>\n",
              "\t<tr><td>AS</td><td>182</td></tr>\n",
              "\t<tr><td>EU</td><td>127</td></tr>\n",
              "\t<tr><td>OC</td><td>148</td></tr>\n",
              "\t<tr><td>SA</td><td> 92</td></tr>\n",
              "\t<tr><td>NA</td><td>347</td></tr>\n",
              "</tbody>\n",
              "</table>\n"
            ],
            "text/markdown": "\nA tibble: 7 × 2\n\n| continent &lt;chr&gt; | user_count &lt;int&gt; |\n|---|---|\n| AF | 103 |\n| AN |   1 |\n| AS | 182 |\n| EU | 127 |\n| OC | 148 |\n| SA |  92 |\n| NA | 347 |\n\n",
            "text/latex": "A tibble: 7 × 2\n\\begin{tabular}{ll}\n continent & user\\_count\\\\\n <chr> & <int>\\\\\n\\hline\n\t AF & 103\\\\\n\t AN &   1\\\\\n\t AS & 182\\\\\n\t EU & 127\\\\\n\t OC & 148\\\\\n\t SA &  92\\\\\n\t NA & 347\\\\\n\\end{tabular}\n",
            "text/plain": [
              "  continent user_count\n",
              "1 AF        103       \n",
              "2 AN          1       \n",
              "3 AS        182       \n",
              "4 EU        127       \n",
              "5 OC        148       \n",
              "6 SA         92       \n",
              "7 NA        347       "
            ]
          },
          "metadata": {}
        }
      ]
    }
  ]
}