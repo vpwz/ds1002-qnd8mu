{
  "nbformat": 4,
  "nbformat_minor": 0,
  "metadata": {
    "colab": {
      "provenance": [],
      "include_colab_link": true
    },
    "kernelspec": {
      "name": "ir",
      "display_name": "R"
    },
    "language_info": {
      "name": "R"
    }
  },
  "cells": [
    {
      "cell_type": "markdown",
      "metadata": {
        "id": "view-in-github",
        "colab_type": "text"
      },
      "source": [
        "<a href=\"https://colab.research.google.com/github/vpwz/ds1002-qnd8mu/blob/main/homework/week-13.ipynb\" target=\"_parent\"><img src=\"https://colab.research.google.com/assets/colab-badge.svg\" alt=\"Open In Colab\"/></a>"
      ]
    },
    {
      "cell_type": "markdown",
      "source": [
        "# Homework - Week 13\n",
        "\n",
        "Complete the following blocks as specified in the directions. Run each cell to return the desired output. Save your notebook back to your GitHub repository and submit the GitHub URL to your notebook for review."
      ],
      "metadata": {
        "id": "sZruw3XQogej"
      }
    },
    {
      "cell_type": "markdown",
      "source": [
        "## 1. Change Runtime to R (1 pt)\n",
        "\n",
        "Change the runtime of this notebook to R. You can verify that you are running R by displaying the current version you are running. Run the cell below and show the output."
      ],
      "metadata": {
        "id": "KmpG99aAokL9"
      }
    },
    {
      "cell_type": "code",
      "execution_count": 1,
      "metadata": {
        "id": "k03Z1NKAoZrW",
        "outputId": "946a2416-5889-4d11-ffcf-00412fccc8ba",
        "colab": {
          "base_uri": "https://localhost:8080/",
          "height": 291
        }
      },
      "outputs": [
        {
          "output_type": "display_data",
          "data": {
            "text/plain": [
              "               _                           \n",
              "platform       x86_64-pc-linux-gnu         \n",
              "arch           x86_64                      \n",
              "os             linux-gnu                   \n",
              "system         x86_64, linux-gnu           \n",
              "status                                     \n",
              "major          4                           \n",
              "minor          3.2                         \n",
              "year           2023                        \n",
              "month          10                          \n",
              "day            31                          \n",
              "svn rev        85441                       \n",
              "language       R                           \n",
              "version.string R version 4.3.2 (2023-10-31)\n",
              "nickname       Eye Holes                   "
            ]
          },
          "metadata": {}
        }
      ],
      "source": [
        "version"
      ]
    },
    {
      "cell_type": "markdown",
      "source": [
        "## 2. Create Vectors (2 pts)\n",
        "\n",
        "Create two vectors in the cells below, according to the prompts given."
      ],
      "metadata": {
        "id": "lkaofBQypx1X"
      }
    },
    {
      "cell_type": "code",
      "source": [
        "# create a vector with 7 integer values. Assign it to a variable named \"my_integers\"\n",
        "my_integers <- c(1,2,3,4,5,6,7)"
      ],
      "metadata": {
        "id": "1fjq5bkEp6Zv"
      },
      "execution_count": 2,
      "outputs": []
    },
    {
      "cell_type": "code",
      "source": [
        "var1 = 8\n",
        "var2 = 4\n",
        "var3 = 12\n",
        "var4 = 25\n",
        "\n",
        "# Using the variables given above, assign three new variables the following calculated values:\n",
        "#\n",
        "# 1. Your first variable should be assigned the calculated value of var2 divided by var1.\n",
        "# 2. Your second variable should be assigned the calculated value of var2 cubed times var3.\n",
        "# 3. Your third variable should be assigned the calculated value of var4 integer divided by var3.\n",
        "#\n",
        "# Next, create an array populated by your three variables. Assign the array to a new variable named \"my_calculated_values\"\n",
        "\n",
        "\n",
        "firstVar <- var2/var1\n",
        "secondVar <- var2^3 * 3\n",
        "thirdVar <- var4%/%var3\n",
        "\n",
        "arr <- c(firstVar,secondVar,thirdVar)"
      ],
      "metadata": {
        "id": "f3IFD-T6p6Rd"
      },
      "execution_count": null,
      "outputs": []
    },
    {
      "cell_type": "markdown",
      "source": [
        "## 3. Vector Indexes (3 pts)"
      ],
      "metadata": {
        "id": "F6Rx0GIGrpOB"
      }
    },
    {
      "cell_type": "markdown",
      "source": [
        "In the cell below, create a vector that starts with the integer 4, that increments by counts of 3 all the way to 28.\n",
        "\n",
        "Assign the vector to a variable name."
      ],
      "metadata": {
        "id": "IDLyOjOJsFCX"
      }
    },
    {
      "cell_type": "code",
      "source": [
        "#\n",
        "vec <- seq(4,28,3)\n",
        "vec"
      ],
      "metadata": {
        "id": "0D5Ia-BPsoPZ",
        "outputId": "3a407afa-3e35-4cac-9275-e8dc029b41a8",
        "colab": {
          "base_uri": "https://localhost:8080/",
          "height": 34
        }
      },
      "execution_count": 10,
      "outputs": [
        {
          "output_type": "display_data",
          "data": {
            "text/html": [
              "<style>\n",
              ".list-inline {list-style: none; margin:0; padding: 0}\n",
              ".list-inline>li {display: inline-block}\n",
              ".list-inline>li:not(:last-child)::after {content: \"\\00b7\"; padding: 0 .5ex}\n",
              "</style>\n",
              "<ol class=list-inline><li>4</li><li>7</li><li>10</li><li>13</li><li>16</li><li>19</li><li>22</li><li>25</li><li>28</li></ol>\n"
            ],
            "text/markdown": "1. 4\n2. 7\n3. 10\n4. 13\n5. 16\n6. 19\n7. 22\n8. 25\n9. 28\n\n\n",
            "text/latex": "\\begin{enumerate*}\n\\item 4\n\\item 7\n\\item 10\n\\item 13\n\\item 16\n\\item 19\n\\item 22\n\\item 25\n\\item 28\n\\end{enumerate*}\n",
            "text/plain": [
              "[1]  4  7 10 13 16 19 22 25 28"
            ]
          },
          "metadata": {}
        }
      ]
    },
    {
      "cell_type": "markdown",
      "source": [
        "Next, show how to display this vector with the 3 index removed."
      ],
      "metadata": {
        "id": "RxFRiRMvtfXI"
      }
    },
    {
      "cell_type": "code",
      "source": [
        "#\n",
        "vec <- vec[-3]\n",
        "vec"
      ],
      "metadata": {
        "id": "MBg7V1LztQlv",
        "outputId": "948cdd43-a613-4cec-af29-09886e60720f",
        "colab": {
          "base_uri": "https://localhost:8080/",
          "height": 34
        }
      },
      "execution_count": 11,
      "outputs": [
        {
          "output_type": "display_data",
          "data": {
            "text/html": [
              "<style>\n",
              ".list-inline {list-style: none; margin:0; padding: 0}\n",
              ".list-inline>li {display: inline-block}\n",
              ".list-inline>li:not(:last-child)::after {content: \"\\00b7\"; padding: 0 .5ex}\n",
              "</style>\n",
              "<ol class=list-inline><li>4</li><li>7</li><li>13</li><li>16</li><li>19</li><li>22</li><li>25</li><li>28</li></ol>\n"
            ],
            "text/markdown": "1. 4\n2. 7\n3. 13\n4. 16\n5. 19\n6. 22\n7. 25\n8. 28\n\n\n",
            "text/latex": "\\begin{enumerate*}\n\\item 4\n\\item 7\n\\item 13\n\\item 16\n\\item 19\n\\item 22\n\\item 25\n\\item 28\n\\end{enumerate*}\n",
            "text/plain": [
              "[1]  4  7 13 16 19 22 25 28"
            ]
          },
          "metadata": {}
        }
      ]
    },
    {
      "cell_type": "markdown",
      "source": [
        "Finally, show how to delete the 4th, 5th, and 7th indexes from the vector and update the vector so they are forever removed from the vector.\n",
        "\n",
        "Hint: there is a fairly simple way to do this in one line, such that you don't have to run a separate command for each removal."
      ],
      "metadata": {
        "id": "Rmci-rVCtq-C"
      }
    },
    {
      "cell_type": "code",
      "source": [
        "#\n",
        "removeThese <- c(4,5,7)\n",
        "vec<- vec[-removeThese]\n",
        "vec"
      ],
      "metadata": {
        "id": "y1k0NHNruFX2",
        "outputId": "5bf58de2-136e-46cf-db60-20274f0f2db9",
        "colab": {
          "base_uri": "https://localhost:8080/",
          "height": 34
        }
      },
      "execution_count": 12,
      "outputs": [
        {
          "output_type": "display_data",
          "data": {
            "text/html": [
              "<style>\n",
              ".list-inline {list-style: none; margin:0; padding: 0}\n",
              ".list-inline>li {display: inline-block}\n",
              ".list-inline>li:not(:last-child)::after {content: \"\\00b7\"; padding: 0 .5ex}\n",
              "</style>\n",
              "<ol class=list-inline><li>4</li><li>7</li><li>13</li><li>22</li><li>28</li></ol>\n"
            ],
            "text/markdown": "1. 4\n2. 7\n3. 13\n4. 22\n5. 28\n\n\n",
            "text/latex": "\\begin{enumerate*}\n\\item 4\n\\item 7\n\\item 13\n\\item 22\n\\item 28\n\\end{enumerate*}\n",
            "text/plain": [
              "[1]  4  7 13 22 28"
            ]
          },
          "metadata": {}
        }
      ]
    },
    {
      "cell_type": "markdown",
      "source": [
        "## 4. Create a Data Frame (3 pts)\n",
        "\n",
        "In the cell below create a data frame with 10 observations (rows) and 5 variables (columns) each. This data frame will describe some of your favorite musical performers. You can use real or fictitious data to populate your data frame.\n",
        "\n",
        "Variables:\n",
        "  - `artist` - Artist or band name\n",
        "  - `category` - Rock, Pop, Country, Hip-hop, Jazz, Classical, Soul, Other. (Try to distribute your selections here)\n",
        "  - `size` - (number of members, 1-?)\n",
        "  - `start` - Debut year of artist.\n",
        "  - `grammy` - Grammmy winner? `TRUE` | `FALSE`\n",
        "\n",
        "First create vectors for each variable populated with your own performer data. Then create a data frame from these vectors (be sure to assign column names too) and assign it to a named variable such as `df`."
      ],
      "metadata": {
        "id": "-2ZaFcCCv3o8"
      }
    },
    {
      "cell_type": "code",
      "source": [
        "#\n",
        "artist<- c(\"Picaso\",\"Amosta\",\"Frety\",\"Nomat\",\"Pollad\",\"Baget\",\"Aple\",\"Bigsey\",\"Mosta\",\"Nolo\")\n",
        "category<- c(\"Rock\",\"Country\",\"Classical\",\"Rock\",\"Country\",\"Rock\",\"Soul\",\"Jazz\",\"Pop\",\"Rock\")\n",
        "size<- c(1,2,3,4,5,6,7,8,9,10)\n",
        "start<- c(2000,2001,2002,2003,2004,2005,2006,2007,2008,2009)\n",
        "grammy<- c(TRUE, TRUE, FALSE, TRUE, FALSE, TRUE, TRUE, FALSE, FALSE, TRUE)\n",
        "\n",
        "df <- data.frame(artist, category, size, start, grammy)\n",
        "df"
      ],
      "metadata": {
        "id": "V4nBsdVsyauQ",
        "outputId": "f31e0a81-f95e-4032-b213-31428f516c1e",
        "colab": {
          "base_uri": "https://localhost:8080/",
          "height": 411
        }
      },
      "execution_count": 13,
      "outputs": [
        {
          "output_type": "display_data",
          "data": {
            "text/html": [
              "<table class=\"dataframe\">\n",
              "<caption>A data.frame: 10 × 5</caption>\n",
              "<thead>\n",
              "\t<tr><th scope=col>artist</th><th scope=col>category</th><th scope=col>size</th><th scope=col>start</th><th scope=col>grammy</th></tr>\n",
              "\t<tr><th scope=col>&lt;chr&gt;</th><th scope=col>&lt;chr&gt;</th><th scope=col>&lt;dbl&gt;</th><th scope=col>&lt;dbl&gt;</th><th scope=col>&lt;lgl&gt;</th></tr>\n",
              "</thead>\n",
              "<tbody>\n",
              "\t<tr><td>Picaso</td><td>Rock     </td><td> 1</td><td>2000</td><td> TRUE</td></tr>\n",
              "\t<tr><td>Amosta</td><td>Country  </td><td> 2</td><td>2001</td><td> TRUE</td></tr>\n",
              "\t<tr><td>Frety </td><td>Classical</td><td> 3</td><td>2002</td><td>FALSE</td></tr>\n",
              "\t<tr><td>Nomat </td><td>Rock     </td><td> 4</td><td>2003</td><td> TRUE</td></tr>\n",
              "\t<tr><td>Pollad</td><td>Country  </td><td> 5</td><td>2004</td><td>FALSE</td></tr>\n",
              "\t<tr><td>Baget </td><td>Rock     </td><td> 6</td><td>2005</td><td> TRUE</td></tr>\n",
              "\t<tr><td>Aple  </td><td>Soul     </td><td> 7</td><td>2006</td><td> TRUE</td></tr>\n",
              "\t<tr><td>Bigsey</td><td>Jazz     </td><td> 8</td><td>2007</td><td>FALSE</td></tr>\n",
              "\t<tr><td>Mosta </td><td>Pop      </td><td> 9</td><td>2008</td><td>FALSE</td></tr>\n",
              "\t<tr><td>Nolo  </td><td>Rock     </td><td>10</td><td>2009</td><td> TRUE</td></tr>\n",
              "</tbody>\n",
              "</table>\n"
            ],
            "text/markdown": "\nA data.frame: 10 × 5\n\n| artist &lt;chr&gt; | category &lt;chr&gt; | size &lt;dbl&gt; | start &lt;dbl&gt; | grammy &lt;lgl&gt; |\n|---|---|---|---|---|\n| Picaso | Rock      |  1 | 2000 |  TRUE |\n| Amosta | Country   |  2 | 2001 |  TRUE |\n| Frety  | Classical |  3 | 2002 | FALSE |\n| Nomat  | Rock      |  4 | 2003 |  TRUE |\n| Pollad | Country   |  5 | 2004 | FALSE |\n| Baget  | Rock      |  6 | 2005 |  TRUE |\n| Aple   | Soul      |  7 | 2006 |  TRUE |\n| Bigsey | Jazz      |  8 | 2007 | FALSE |\n| Mosta  | Pop       |  9 | 2008 | FALSE |\n| Nolo   | Rock      | 10 | 2009 |  TRUE |\n\n",
            "text/latex": "A data.frame: 10 × 5\n\\begin{tabular}{lllll}\n artist & category & size & start & grammy\\\\\n <chr> & <chr> & <dbl> & <dbl> & <lgl>\\\\\n\\hline\n\t Picaso & Rock      &  1 & 2000 &  TRUE\\\\\n\t Amosta & Country   &  2 & 2001 &  TRUE\\\\\n\t Frety  & Classical &  3 & 2002 & FALSE\\\\\n\t Nomat  & Rock      &  4 & 2003 &  TRUE\\\\\n\t Pollad & Country   &  5 & 2004 & FALSE\\\\\n\t Baget  & Rock      &  6 & 2005 &  TRUE\\\\\n\t Aple   & Soul      &  7 & 2006 &  TRUE\\\\\n\t Bigsey & Jazz      &  8 & 2007 & FALSE\\\\\n\t Mosta  & Pop       &  9 & 2008 & FALSE\\\\\n\t Nolo   & Rock      & 10 & 2009 &  TRUE\\\\\n\\end{tabular}\n",
            "text/plain": [
              "   artist category  size start grammy\n",
              "1  Picaso Rock       1   2000   TRUE \n",
              "2  Amosta Country    2   2001   TRUE \n",
              "3  Frety  Classical  3   2002  FALSE \n",
              "4  Nomat  Rock       4   2003   TRUE \n",
              "5  Pollad Country    5   2004  FALSE \n",
              "6  Baget  Rock       6   2005   TRUE \n",
              "7  Aple   Soul       7   2006   TRUE \n",
              "8  Bigsey Jazz       8   2007  FALSE \n",
              "9  Mosta  Pop        9   2008  FALSE \n",
              "10 Nolo   Rock      10   2009   TRUE "
            ]
          },
          "metadata": {}
        }
      ]
    },
    {
      "cell_type": "markdown",
      "source": [
        "## 5. Filter/Query a Data Frame (2 pts)\n",
        "\n",
        "Use the data frame you created above and show how to perform the following queries."
      ],
      "metadata": {
        "id": "nG5m-FIRydNU"
      }
    },
    {
      "cell_type": "code",
      "source": [
        "# Display the first 3 records and only the `artist`, `category` and `grammy` columns for each.\n",
        "head(df[,c(\"artist\",\"category\",\"grammy\")] ,3)"
      ],
      "metadata": {
        "id": "OlmbfFi6zSgR",
        "outputId": "edf0180f-bfc6-4ea1-d0af-8f4664a6326c",
        "colab": {
          "base_uri": "https://localhost:8080/",
          "height": 192
        }
      },
      "execution_count": 15,
      "outputs": [
        {
          "output_type": "display_data",
          "data": {
            "text/html": [
              "<table class=\"dataframe\">\n",
              "<caption>A data.frame: 3 × 3</caption>\n",
              "<thead>\n",
              "\t<tr><th></th><th scope=col>artist</th><th scope=col>category</th><th scope=col>grammy</th></tr>\n",
              "\t<tr><th></th><th scope=col>&lt;chr&gt;</th><th scope=col>&lt;chr&gt;</th><th scope=col>&lt;lgl&gt;</th></tr>\n",
              "</thead>\n",
              "<tbody>\n",
              "\t<tr><th scope=row>1</th><td>Picaso</td><td>Rock     </td><td> TRUE</td></tr>\n",
              "\t<tr><th scope=row>2</th><td>Amosta</td><td>Country  </td><td> TRUE</td></tr>\n",
              "\t<tr><th scope=row>3</th><td>Frety </td><td>Classical</td><td>FALSE</td></tr>\n",
              "</tbody>\n",
              "</table>\n"
            ],
            "text/markdown": "\nA data.frame: 3 × 3\n\n| <!--/--> | artist &lt;chr&gt; | category &lt;chr&gt; | grammy &lt;lgl&gt; |\n|---|---|---|---|\n| 1 | Picaso | Rock      |  TRUE |\n| 2 | Amosta | Country   |  TRUE |\n| 3 | Frety  | Classical | FALSE |\n\n",
            "text/latex": "A data.frame: 3 × 3\n\\begin{tabular}{r|lll}\n  & artist & category & grammy\\\\\n  & <chr> & <chr> & <lgl>\\\\\n\\hline\n\t1 & Picaso & Rock      &  TRUE\\\\\n\t2 & Amosta & Country   &  TRUE\\\\\n\t3 & Frety  & Classical & FALSE\\\\\n\\end{tabular}\n",
            "text/plain": [
              "  artist category  grammy\n",
              "1 Picaso Rock       TRUE \n",
              "2 Amosta Country    TRUE \n",
              "3 Frety  Classical FALSE "
            ]
          },
          "metadata": {}
        }
      ]
    },
    {
      "cell_type": "code",
      "source": [
        "# Display the records for just one musical category, such as only Rock bands or only Hip-hop bands.\n",
        "rock <- df[df$category == \"Rock\",]\n",
        "rock"
      ],
      "metadata": {
        "id": "-l_kpWSzzlhG",
        "outputId": "cef11dcd-4307-4402-e409-aad3bf8c308a",
        "colab": {
          "base_uri": "https://localhost:8080/",
          "height": 223
        }
      },
      "execution_count": 22,
      "outputs": [
        {
          "output_type": "display_data",
          "data": {
            "text/html": [
              "<table class=\"dataframe\">\n",
              "<caption>A data.frame: 4 × 5</caption>\n",
              "<thead>\n",
              "\t<tr><th></th><th scope=col>artist</th><th scope=col>category</th><th scope=col>size</th><th scope=col>start</th><th scope=col>grammy</th></tr>\n",
              "\t<tr><th></th><th scope=col>&lt;chr&gt;</th><th scope=col>&lt;chr&gt;</th><th scope=col>&lt;dbl&gt;</th><th scope=col>&lt;dbl&gt;</th><th scope=col>&lt;lgl&gt;</th></tr>\n",
              "</thead>\n",
              "<tbody>\n",
              "\t<tr><th scope=row>1</th><td>Picaso</td><td>Rock</td><td> 1</td><td>2000</td><td>TRUE</td></tr>\n",
              "\t<tr><th scope=row>4</th><td>Nomat </td><td>Rock</td><td> 4</td><td>2003</td><td>TRUE</td></tr>\n",
              "\t<tr><th scope=row>6</th><td>Baget </td><td>Rock</td><td> 6</td><td>2005</td><td>TRUE</td></tr>\n",
              "\t<tr><th scope=row>10</th><td>Nolo  </td><td>Rock</td><td>10</td><td>2009</td><td>TRUE</td></tr>\n",
              "</tbody>\n",
              "</table>\n"
            ],
            "text/markdown": "\nA data.frame: 4 × 5\n\n| <!--/--> | artist &lt;chr&gt; | category &lt;chr&gt; | size &lt;dbl&gt; | start &lt;dbl&gt; | grammy &lt;lgl&gt; |\n|---|---|---|---|---|---|\n| 1 | Picaso | Rock |  1 | 2000 | TRUE |\n| 4 | Nomat  | Rock |  4 | 2003 | TRUE |\n| 6 | Baget  | Rock |  6 | 2005 | TRUE |\n| 10 | Nolo   | Rock | 10 | 2009 | TRUE |\n\n",
            "text/latex": "A data.frame: 4 × 5\n\\begin{tabular}{r|lllll}\n  & artist & category & size & start & grammy\\\\\n  & <chr> & <chr> & <dbl> & <dbl> & <lgl>\\\\\n\\hline\n\t1 & Picaso & Rock &  1 & 2000 & TRUE\\\\\n\t4 & Nomat  & Rock &  4 & 2003 & TRUE\\\\\n\t6 & Baget  & Rock &  6 & 2005 & TRUE\\\\\n\t10 & Nolo   & Rock & 10 & 2009 & TRUE\\\\\n\\end{tabular}\n",
            "text/plain": [
              "   artist category size start grammy\n",
              "1  Picaso Rock      1   2000  TRUE  \n",
              "4  Nomat  Rock      4   2003  TRUE  \n",
              "6  Baget  Rock      6   2005  TRUE  \n",
              "10 Nolo   Rock     10   2009  TRUE  "
            ]
          },
          "metadata": {}
        }
      ]
    },
    {
      "cell_type": "markdown",
      "source": [
        "## Query a Data Frame using `tidyverse` (4 pts)\n",
        "\n",
        "1. Show how to load the library.\n",
        "2. Show how to glimpse basic features of the `starwars` data table.\n",
        "3. Create a query using tidyverse that retrieves the following data:\n",
        "    - Selects only these columns: `name`, `height`, `sex`, `species`.\n",
        "    - Filters for all species that are NOT Human.\n",
        "    - Arranges the resulting data in order by name.\n",
        "\n",
        "Show your output in a data frame."
      ],
      "metadata": {
        "id": "L-xnszjS0Byy"
      }
    },
    {
      "cell_type": "code",
      "source": [
        "#\n",
        "library(tidyverse)\n",
        "\n",
        "glimpse(starwars)\n",
        "\n",
        "data <- starwars %>%\n",
        "        select(name, height,species)%>%\n",
        "        filter(species != \"Human\") %>%\n",
        "        arrange(name)\n",
        "\n",
        "data"
      ],
      "metadata": {
        "id": "yTMLzrxS0F4u",
        "outputId": "8e6c7fc6-bdd5-4766-d375-19d443fc1c24",
        "colab": {
          "base_uri": "https://localhost:8080/",
          "height": 1000
        }
      },
      "execution_count": 26,
      "outputs": [
        {
          "output_type": "stream",
          "name": "stdout",
          "text": [
            "Rows: 87\n",
            "Columns: 14\n",
            "$ name       \u001b[3m\u001b[90m<chr>\u001b[39m\u001b[23m \"Luke Skywalker\", \"C-3PO\", \"R2-D2\", \"Darth Vader\", \"Leia Or…\n",
            "$ height     \u001b[3m\u001b[90m<int>\u001b[39m\u001b[23m 172, 167, 96, 202, 150, 178, 165, 97, 183, 182, 188, 180, 2…\n",
            "$ mass       \u001b[3m\u001b[90m<dbl>\u001b[39m\u001b[23m 77.0, 75.0, 32.0, 136.0, 49.0, 120.0, 75.0, 32.0, 84.0, 77.…\n",
            "$ hair_color \u001b[3m\u001b[90m<chr>\u001b[39m\u001b[23m \"blond\", NA, NA, \"none\", \"brown\", \"brown, grey\", \"brown\", N…\n",
            "$ skin_color \u001b[3m\u001b[90m<chr>\u001b[39m\u001b[23m \"fair\", \"gold\", \"white, blue\", \"white\", \"light\", \"light\", \"…\n",
            "$ eye_color  \u001b[3m\u001b[90m<chr>\u001b[39m\u001b[23m \"blue\", \"yellow\", \"red\", \"yellow\", \"brown\", \"blue\", \"blue\",…\n",
            "$ birth_year \u001b[3m\u001b[90m<dbl>\u001b[39m\u001b[23m 19.0, 112.0, 33.0, 41.9, 19.0, 52.0, 47.0, NA, 24.0, 57.0, …\n",
            "$ sex        \u001b[3m\u001b[90m<chr>\u001b[39m\u001b[23m \"male\", \"none\", \"none\", \"male\", \"female\", \"male\", \"female\",…\n",
            "$ gender     \u001b[3m\u001b[90m<chr>\u001b[39m\u001b[23m \"masculine\", \"masculine\", \"masculine\", \"masculine\", \"femini…\n",
            "$ homeworld  \u001b[3m\u001b[90m<chr>\u001b[39m\u001b[23m \"Tatooine\", \"Tatooine\", \"Naboo\", \"Tatooine\", \"Alderaan\", \"T…\n",
            "$ species    \u001b[3m\u001b[90m<chr>\u001b[39m\u001b[23m \"Human\", \"Droid\", \"Droid\", \"Human\", \"Human\", \"Human\", \"Huma…\n",
            "$ films      \u001b[3m\u001b[90m<list>\u001b[39m\u001b[23m <\"The Empire Strikes Back\", \"Revenge of the Sith\", \"Return…\n",
            "$ vehicles   \u001b[3m\u001b[90m<list>\u001b[39m\u001b[23m <\"Snowspeeder\", \"Imperial Speeder Bike\">, <>, <>, <>, \"Imp…\n",
            "$ starships  \u001b[3m\u001b[90m<list>\u001b[39m\u001b[23m <\"X-wing\", \"Imperial shuttle\">, <>, <>, \"TIE Advanced x1\",…\n"
          ]
        },
        {
          "output_type": "display_data",
          "data": {
            "text/html": [
              "<table class=\"dataframe\">\n",
              "<caption>A tibble: 48 × 3</caption>\n",
              "<thead>\n",
              "\t<tr><th scope=col>name</th><th scope=col>height</th><th scope=col>species</th></tr>\n",
              "\t<tr><th scope=col>&lt;chr&gt;</th><th scope=col>&lt;int&gt;</th><th scope=col>&lt;chr&gt;</th></tr>\n",
              "</thead>\n",
              "<tbody>\n",
              "\t<tr><td>Ackbar               </td><td>180</td><td>Mon Calamari  </td></tr>\n",
              "\t<tr><td>Adi Gallia           </td><td>184</td><td>Tholothian    </td></tr>\n",
              "\t<tr><td>Ayla Secura          </td><td>178</td><td>Twi'lek       </td></tr>\n",
              "\t<tr><td>BB8                  </td><td> NA</td><td>Droid         </td></tr>\n",
              "\t<tr><td>Barriss Offee        </td><td>166</td><td>Mirialan      </td></tr>\n",
              "\t<tr><td>Ben Quadinaros       </td><td>163</td><td>Toong         </td></tr>\n",
              "\t<tr><td>Bib Fortuna          </td><td>180</td><td>Twi'lek       </td></tr>\n",
              "\t<tr><td>Bossk                </td><td>190</td><td>Trandoshan    </td></tr>\n",
              "\t<tr><td>C-3PO                </td><td>167</td><td>Droid         </td></tr>\n",
              "\t<tr><td>Chewbacca            </td><td>228</td><td>Wookiee       </td></tr>\n",
              "\t<tr><td>Darth Maul           </td><td>175</td><td>Zabrak        </td></tr>\n",
              "\t<tr><td>Dexter Jettster      </td><td>198</td><td>Besalisk      </td></tr>\n",
              "\t<tr><td>Dud Bolt             </td><td> 94</td><td>Vulptereen    </td></tr>\n",
              "\t<tr><td>Eeth Koth            </td><td>171</td><td>Zabrak        </td></tr>\n",
              "\t<tr><td>Gasgano              </td><td>122</td><td>Xexto         </td></tr>\n",
              "\t<tr><td>Greedo               </td><td>173</td><td>Rodian        </td></tr>\n",
              "\t<tr><td>Grievous             </td><td>216</td><td>Kaleesh       </td></tr>\n",
              "\t<tr><td>IG-88                </td><td>200</td><td>Droid         </td></tr>\n",
              "\t<tr><td>Jabba Desilijic Tiure</td><td>175</td><td>Hutt          </td></tr>\n",
              "\t<tr><td>Jar Jar Binks        </td><td>196</td><td>Gungan        </td></tr>\n",
              "\t<tr><td>Ki-Adi-Mundi         </td><td>198</td><td>Cerean        </td></tr>\n",
              "\t<tr><td>Kit Fisto            </td><td>196</td><td>Nautolan      </td></tr>\n",
              "\t<tr><td>Lama Su              </td><td>229</td><td>Kaminoan      </td></tr>\n",
              "\t<tr><td>Luminara Unduli      </td><td>170</td><td>Mirialan      </td></tr>\n",
              "\t<tr><td>Mas Amedda           </td><td>196</td><td>Chagrian      </td></tr>\n",
              "\t<tr><td>Nien Nunb            </td><td>160</td><td>Sullustan     </td></tr>\n",
              "\t<tr><td>Nute Gunray          </td><td>191</td><td>Neimodian     </td></tr>\n",
              "\t<tr><td>Plo Koon             </td><td>188</td><td>Kel Dor       </td></tr>\n",
              "\t<tr><td>Poggle the Lesser    </td><td>183</td><td>Geonosian     </td></tr>\n",
              "\t<tr><td>R2-D2                </td><td> 96</td><td>Droid         </td></tr>\n",
              "\t<tr><td>R4-P17               </td><td> 96</td><td>Droid         </td></tr>\n",
              "\t<tr><td>R5-D4                </td><td> 97</td><td>Droid         </td></tr>\n",
              "\t<tr><td>Ratts Tyerell        </td><td> 79</td><td>Aleena        </td></tr>\n",
              "\t<tr><td>Roos Tarpals         </td><td>224</td><td>Gungan        </td></tr>\n",
              "\t<tr><td>Rugor Nass           </td><td>206</td><td>Gungan        </td></tr>\n",
              "\t<tr><td>Saesee Tiin          </td><td>188</td><td>Iktotchi      </td></tr>\n",
              "\t<tr><td>San Hill             </td><td>191</td><td>Muun          </td></tr>\n",
              "\t<tr><td>Sebulba              </td><td>112</td><td>Dug           </td></tr>\n",
              "\t<tr><td>Shaak Ti             </td><td>178</td><td>Togruta       </td></tr>\n",
              "\t<tr><td>Tarfful              </td><td>234</td><td>Wookiee       </td></tr>\n",
              "\t<tr><td>Taun We              </td><td>213</td><td>Kaminoan      </td></tr>\n",
              "\t<tr><td>Tion Medon           </td><td>206</td><td>Pau'an        </td></tr>\n",
              "\t<tr><td>Wat Tambor           </td><td>193</td><td>Skakoan       </td></tr>\n",
              "\t<tr><td>Watto                </td><td>137</td><td>Toydarian     </td></tr>\n",
              "\t<tr><td>Wicket Systri Warrick</td><td> 88</td><td>Ewok          </td></tr>\n",
              "\t<tr><td>Yarael Poof          </td><td>264</td><td>Quermian      </td></tr>\n",
              "\t<tr><td>Yoda                 </td><td> 66</td><td>Yoda's species</td></tr>\n",
              "\t<tr><td>Zam Wesell           </td><td>168</td><td>Clawdite      </td></tr>\n",
              "</tbody>\n",
              "</table>\n"
            ],
            "text/markdown": "\nA tibble: 48 × 3\n\n| name &lt;chr&gt; | height &lt;int&gt; | species &lt;chr&gt; |\n|---|---|---|\n| Ackbar                | 180 | Mon Calamari   |\n| Adi Gallia            | 184 | Tholothian     |\n| Ayla Secura           | 178 | Twi'lek        |\n| BB8                   |  NA | Droid          |\n| Barriss Offee         | 166 | Mirialan       |\n| Ben Quadinaros        | 163 | Toong          |\n| Bib Fortuna           | 180 | Twi'lek        |\n| Bossk                 | 190 | Trandoshan     |\n| C-3PO                 | 167 | Droid          |\n| Chewbacca             | 228 | Wookiee        |\n| Darth Maul            | 175 | Zabrak         |\n| Dexter Jettster       | 198 | Besalisk       |\n| Dud Bolt              |  94 | Vulptereen     |\n| Eeth Koth             | 171 | Zabrak         |\n| Gasgano               | 122 | Xexto          |\n| Greedo                | 173 | Rodian         |\n| Grievous              | 216 | Kaleesh        |\n| IG-88                 | 200 | Droid          |\n| Jabba Desilijic Tiure | 175 | Hutt           |\n| Jar Jar Binks         | 196 | Gungan         |\n| Ki-Adi-Mundi          | 198 | Cerean         |\n| Kit Fisto             | 196 | Nautolan       |\n| Lama Su               | 229 | Kaminoan       |\n| Luminara Unduli       | 170 | Mirialan       |\n| Mas Amedda            | 196 | Chagrian       |\n| Nien Nunb             | 160 | Sullustan      |\n| Nute Gunray           | 191 | Neimodian      |\n| Plo Koon              | 188 | Kel Dor        |\n| Poggle the Lesser     | 183 | Geonosian      |\n| R2-D2                 |  96 | Droid          |\n| R4-P17                |  96 | Droid          |\n| R5-D4                 |  97 | Droid          |\n| Ratts Tyerell         |  79 | Aleena         |\n| Roos Tarpals          | 224 | Gungan         |\n| Rugor Nass            | 206 | Gungan         |\n| Saesee Tiin           | 188 | Iktotchi       |\n| San Hill              | 191 | Muun           |\n| Sebulba               | 112 | Dug            |\n| Shaak Ti              | 178 | Togruta        |\n| Tarfful               | 234 | Wookiee        |\n| Taun We               | 213 | Kaminoan       |\n| Tion Medon            | 206 | Pau'an         |\n| Wat Tambor            | 193 | Skakoan        |\n| Watto                 | 137 | Toydarian      |\n| Wicket Systri Warrick |  88 | Ewok           |\n| Yarael Poof           | 264 | Quermian       |\n| Yoda                  |  66 | Yoda's species |\n| Zam Wesell            | 168 | Clawdite       |\n\n",
            "text/latex": "A tibble: 48 × 3\n\\begin{tabular}{lll}\n name & height & species\\\\\n <chr> & <int> & <chr>\\\\\n\\hline\n\t Ackbar                & 180 & Mon Calamari  \\\\\n\t Adi Gallia            & 184 & Tholothian    \\\\\n\t Ayla Secura           & 178 & Twi'lek       \\\\\n\t BB8                   &  NA & Droid         \\\\\n\t Barriss Offee         & 166 & Mirialan      \\\\\n\t Ben Quadinaros        & 163 & Toong         \\\\\n\t Bib Fortuna           & 180 & Twi'lek       \\\\\n\t Bossk                 & 190 & Trandoshan    \\\\\n\t C-3PO                 & 167 & Droid         \\\\\n\t Chewbacca             & 228 & Wookiee       \\\\\n\t Darth Maul            & 175 & Zabrak        \\\\\n\t Dexter Jettster       & 198 & Besalisk      \\\\\n\t Dud Bolt              &  94 & Vulptereen    \\\\\n\t Eeth Koth             & 171 & Zabrak        \\\\\n\t Gasgano               & 122 & Xexto         \\\\\n\t Greedo                & 173 & Rodian        \\\\\n\t Grievous              & 216 & Kaleesh       \\\\\n\t IG-88                 & 200 & Droid         \\\\\n\t Jabba Desilijic Tiure & 175 & Hutt          \\\\\n\t Jar Jar Binks         & 196 & Gungan        \\\\\n\t Ki-Adi-Mundi          & 198 & Cerean        \\\\\n\t Kit Fisto             & 196 & Nautolan      \\\\\n\t Lama Su               & 229 & Kaminoan      \\\\\n\t Luminara Unduli       & 170 & Mirialan      \\\\\n\t Mas Amedda            & 196 & Chagrian      \\\\\n\t Nien Nunb             & 160 & Sullustan     \\\\\n\t Nute Gunray           & 191 & Neimodian     \\\\\n\t Plo Koon              & 188 & Kel Dor       \\\\\n\t Poggle the Lesser     & 183 & Geonosian     \\\\\n\t R2-D2                 &  96 & Droid         \\\\\n\t R4-P17                &  96 & Droid         \\\\\n\t R5-D4                 &  97 & Droid         \\\\\n\t Ratts Tyerell         &  79 & Aleena        \\\\\n\t Roos Tarpals          & 224 & Gungan        \\\\\n\t Rugor Nass            & 206 & Gungan        \\\\\n\t Saesee Tiin           & 188 & Iktotchi      \\\\\n\t San Hill              & 191 & Muun          \\\\\n\t Sebulba               & 112 & Dug           \\\\\n\t Shaak Ti              & 178 & Togruta       \\\\\n\t Tarfful               & 234 & Wookiee       \\\\\n\t Taun We               & 213 & Kaminoan      \\\\\n\t Tion Medon            & 206 & Pau'an        \\\\\n\t Wat Tambor            & 193 & Skakoan       \\\\\n\t Watto                 & 137 & Toydarian     \\\\\n\t Wicket Systri Warrick &  88 & Ewok          \\\\\n\t Yarael Poof           & 264 & Quermian      \\\\\n\t Yoda                  &  66 & Yoda's species\\\\\n\t Zam Wesell            & 168 & Clawdite      \\\\\n\\end{tabular}\n",
            "text/plain": [
              "   name                  height species       \n",
              "1  Ackbar                180    Mon Calamari  \n",
              "2  Adi Gallia            184    Tholothian    \n",
              "3  Ayla Secura           178    Twi'lek       \n",
              "4  BB8                    NA    Droid         \n",
              "5  Barriss Offee         166    Mirialan      \n",
              "6  Ben Quadinaros        163    Toong         \n",
              "7  Bib Fortuna           180    Twi'lek       \n",
              "8  Bossk                 190    Trandoshan    \n",
              "9  C-3PO                 167    Droid         \n",
              "10 Chewbacca             228    Wookiee       \n",
              "11 Darth Maul            175    Zabrak        \n",
              "12 Dexter Jettster       198    Besalisk      \n",
              "13 Dud Bolt               94    Vulptereen    \n",
              "14 Eeth Koth             171    Zabrak        \n",
              "15 Gasgano               122    Xexto         \n",
              "16 Greedo                173    Rodian        \n",
              "17 Grievous              216    Kaleesh       \n",
              "18 IG-88                 200    Droid         \n",
              "19 Jabba Desilijic Tiure 175    Hutt          \n",
              "20 Jar Jar Binks         196    Gungan        \n",
              "21 Ki-Adi-Mundi          198    Cerean        \n",
              "22 Kit Fisto             196    Nautolan      \n",
              "23 Lama Su               229    Kaminoan      \n",
              "24 Luminara Unduli       170    Mirialan      \n",
              "25 Mas Amedda            196    Chagrian      \n",
              "26 Nien Nunb             160    Sullustan     \n",
              "27 Nute Gunray           191    Neimodian     \n",
              "28 Plo Koon              188    Kel Dor       \n",
              "29 Poggle the Lesser     183    Geonosian     \n",
              "30 R2-D2                  96    Droid         \n",
              "31 R4-P17                 96    Droid         \n",
              "32 R5-D4                  97    Droid         \n",
              "33 Ratts Tyerell          79    Aleena        \n",
              "34 Roos Tarpals          224    Gungan        \n",
              "35 Rugor Nass            206    Gungan        \n",
              "36 Saesee Tiin           188    Iktotchi      \n",
              "37 San Hill              191    Muun          \n",
              "38 Sebulba               112    Dug           \n",
              "39 Shaak Ti              178    Togruta       \n",
              "40 Tarfful               234    Wookiee       \n",
              "41 Taun We               213    Kaminoan      \n",
              "42 Tion Medon            206    Pau'an        \n",
              "43 Wat Tambor            193    Skakoan       \n",
              "44 Watto                 137    Toydarian     \n",
              "45 Wicket Systri Warrick  88    Ewok          \n",
              "46 Yarael Poof           264    Quermian      \n",
              "47 Yoda                   66    Yoda's species\n",
              "48 Zam Wesell            168    Clawdite      "
            ]
          },
          "metadata": {}
        }
      ]
    }
  ]
}